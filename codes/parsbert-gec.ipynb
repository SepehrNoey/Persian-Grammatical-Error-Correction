{
 "metadata": {
  "kernelspec": {
   "display_name": "Python 3",
   "language": "python",
   "name": "python3"
  },
  "language_info": {
   "codemirror_mode": {
    "name": "ipython",
    "version": 3
   },
   "file_extension": ".py",
   "mimetype": "text/x-python",
   "name": "python",
   "nbconvert_exporter": "python",
   "pygments_lexer": "ipython3",
   "version": "3.10.12"
  },
  "papermill": {
   "default_parameters": {},
   "duration": 2052.70509,
   "end_time": "2023-08-13T12:52:39.071721",
   "environment_variables": {},
   "exception": true,
   "input_path": "__notebook__.ipynb",
   "output_path": "__notebook__.ipynb",
   "parameters": {},
   "start_time": "2023-08-13T12:18:26.366631",
   "version": "2.4.0"
  },
  "widgets": {
   "application/vnd.jupyter.widget-state+json": {
    "state": {
     "0158640165d4456f920b73d80de5512d": {
      "model_module": "@jupyter-widgets/base",
      "model_module_version": "1.2.0",
      "model_name": "LayoutModel",
      "state": {
       "_model_module": "@jupyter-widgets/base",
       "_model_module_version": "1.2.0",
       "_model_name": "LayoutModel",
       "_view_count": null,
       "_view_module": "@jupyter-widgets/base",
       "_view_module_version": "1.2.0",
       "_view_name": "LayoutView",
       "align_content": null,
       "align_items": null,
       "align_self": null,
       "border": null,
       "bottom": null,
       "display": null,
       "flex": null,
       "flex_flow": null,
       "grid_area": null,
       "grid_auto_columns": null,
       "grid_auto_flow": null,
       "grid_auto_rows": null,
       "grid_column": null,
       "grid_gap": null,
       "grid_row": null,
       "grid_template_areas": null,
       "grid_template_columns": null,
       "grid_template_rows": null,
       "height": null,
       "justify_content": null,
       "justify_items": null,
       "left": null,
       "margin": null,
       "max_height": null,
       "max_width": null,
       "min_height": null,
       "min_width": null,
       "object_fit": null,
       "object_position": null,
       "order": null,
       "overflow": null,
       "overflow_x": null,
       "overflow_y": null,
       "padding": null,
       "right": null,
       "top": null,
       "visibility": null,
       "width": null
      }
     },
     "038f20c44305479e9afd30df6c99036b": {
      "model_module": "@jupyter-widgets/controls",
      "model_module_version": "1.5.0",
      "model_name": "DescriptionStyleModel",
      "state": {
       "_model_module": "@jupyter-widgets/controls",
       "_model_module_version": "1.5.0",
       "_model_name": "DescriptionStyleModel",
       "_view_count": null,
       "_view_module": "@jupyter-widgets/base",
       "_view_module_version": "1.2.0",
       "_view_name": "StyleView",
       "description_width": ""
      }
     },
     "0670077f59a14d2e9bbd833eedb612fa": {
      "model_module": "@jupyter-widgets/controls",
      "model_module_version": "1.5.0",
      "model_name": "FloatProgressModel",
      "state": {
       "_dom_classes": [],
       "_model_module": "@jupyter-widgets/controls",
       "_model_module_version": "1.5.0",
       "_model_name": "FloatProgressModel",
       "_view_count": null,
       "_view_module": "@jupyter-widgets/controls",
       "_view_module_version": "1.5.0",
       "_view_name": "ProgressView",
       "bar_style": "success",
       "description": "",
       "description_tooltip": null,
       "layout": "IPY_MODEL_b2359a1cc0ff4c5ba211dcca6381fe5b",
       "max": 74,
       "min": 0,
       "orientation": "horizontal",
       "style": "IPY_MODEL_1f60e5a3c99342b3ab3fe2376514ae79",
       "value": 74
      }
     },
     "0685b25443244a73b07e6ff616dfef04": {
      "model_module": "@jupyter-widgets/controls",
      "model_module_version": "1.5.0",
      "model_name": "HTMLModel",
      "state": {
       "_dom_classes": [],
       "_model_module": "@jupyter-widgets/controls",
       "_model_module_version": "1.5.0",
       "_model_name": "HTMLModel",
       "_view_count": null,
       "_view_module": "@jupyter-widgets/controls",
       "_view_module_version": "1.5.0",
       "_view_name": "HTMLView",
       "description": "",
       "description_tooltip": null,
       "layout": "IPY_MODEL_cfed35c23f5e4bdaa99491f6b1d60997",
       "placeholder": "​",
       "style": "IPY_MODEL_76356b4f8eb84524ba731e9803ca8725",
       "value": " 445/445 [00:00&lt;00:00, 22.8kB/s]"
      }
     },
     "10a73a3ca5e34c9685e7b5214c4220bc": {
      "model_module": "@jupyter-widgets/base",
      "model_module_version": "1.2.0",
      "model_name": "LayoutModel",
      "state": {
       "_model_module": "@jupyter-widgets/base",
       "_model_module_version": "1.2.0",
       "_model_name": "LayoutModel",
       "_view_count": null,
       "_view_module": "@jupyter-widgets/base",
       "_view_module_version": "1.2.0",
       "_view_name": "LayoutView",
       "align_content": null,
       "align_items": null,
       "align_self": null,
       "border": null,
       "bottom": null,
       "display": null,
       "flex": null,
       "flex_flow": null,
       "grid_area": null,
       "grid_auto_columns": null,
       "grid_auto_flow": null,
       "grid_auto_rows": null,
       "grid_column": null,
       "grid_gap": null,
       "grid_row": null,
       "grid_template_areas": null,
       "grid_template_columns": null,
       "grid_template_rows": null,
       "height": null,
       "justify_content": null,
       "justify_items": null,
       "left": null,
       "margin": null,
       "max_height": null,
       "max_width": null,
       "min_height": null,
       "min_width": null,
       "object_fit": null,
       "object_position": null,
       "order": null,
       "overflow": null,
       "overflow_x": null,
       "overflow_y": null,
       "padding": null,
       "right": null,
       "top": null,
       "visibility": null,
       "width": null
      }
     },
     "1447c561b63e4e48b4818c0a1d22ced2": {
      "model_module": "@jupyter-widgets/controls",
      "model_module_version": "1.5.0",
      "model_name": "DescriptionStyleModel",
      "state": {
       "_model_module": "@jupyter-widgets/controls",
       "_model_module_version": "1.5.0",
       "_model_name": "DescriptionStyleModel",
       "_view_count": null,
       "_view_module": "@jupyter-widgets/base",
       "_view_module_version": "1.2.0",
       "_view_name": "StyleView",
       "description_width": ""
      }
     },
     "16a942801eaa475fb8a6766608dc8589": {
      "model_module": "@jupyter-widgets/controls",
      "model_module_version": "1.5.0",
      "model_name": "FloatProgressModel",
      "state": {
       "_dom_classes": [],
       "_model_module": "@jupyter-widgets/controls",
       "_model_module_version": "1.5.0",
       "_model_name": "FloatProgressModel",
       "_view_count": null,
       "_view_module": "@jupyter-widgets/controls",
       "_view_module_version": "1.5.0",
       "_view_name": "ProgressView",
       "bar_style": "success",
       "description": "",
       "description_tooltip": null,
       "layout": "IPY_MODEL_10a73a3ca5e34c9685e7b5214c4220bc",
       "max": 445,
       "min": 0,
       "orientation": "horizontal",
       "style": "IPY_MODEL_ae3bf939b77e40a489efaf9c67c4c05e",
       "value": 445
      }
     },
     "1c8060868fba44f580a840cba70d29f7": {
      "model_module": "@jupyter-widgets/controls",
      "model_module_version": "1.5.0",
      "model_name": "DescriptionStyleModel",
      "state": {
       "_model_module": "@jupyter-widgets/controls",
       "_model_module_version": "1.5.0",
       "_model_name": "DescriptionStyleModel",
       "_view_count": null,
       "_view_module": "@jupyter-widgets/base",
       "_view_module_version": "1.2.0",
       "_view_name": "StyleView",
       "description_width": ""
      }
     },
     "1f60e5a3c99342b3ab3fe2376514ae79": {
      "model_module": "@jupyter-widgets/controls",
      "model_module_version": "1.5.0",
      "model_name": "ProgressStyleModel",
      "state": {
       "_model_module": "@jupyter-widgets/controls",
       "_model_module_version": "1.5.0",
       "_model_name": "ProgressStyleModel",
       "_view_count": null,
       "_view_module": "@jupyter-widgets/base",
       "_view_module_version": "1.2.0",
       "_view_name": "StyleView",
       "bar_color": null,
       "description_width": ""
      }
     },
     "2d1fd8d835f14922855116b45bd6489e": {
      "model_module": "@jupyter-widgets/base",
      "model_module_version": "1.2.0",
      "model_name": "LayoutModel",
      "state": {
       "_model_module": "@jupyter-widgets/base",
       "_model_module_version": "1.2.0",
       "_model_name": "LayoutModel",
       "_view_count": null,
       "_view_module": "@jupyter-widgets/base",
       "_view_module_version": "1.2.0",
       "_view_name": "LayoutView",
       "align_content": null,
       "align_items": null,
       "align_self": null,
       "border": null,
       "bottom": null,
       "display": null,
       "flex": null,
       "flex_flow": null,
       "grid_area": null,
       "grid_auto_columns": null,
       "grid_auto_flow": null,
       "grid_auto_rows": null,
       "grid_column": null,
       "grid_gap": null,
       "grid_row": null,
       "grid_template_areas": null,
       "grid_template_columns": null,
       "grid_template_rows": null,
       "height": null,
       "justify_content": null,
       "justify_items": null,
       "left": null,
       "margin": null,
       "max_height": null,
       "max_width": null,
       "min_height": null,
       "min_width": null,
       "object_fit": null,
       "object_position": null,
       "order": null,
       "overflow": null,
       "overflow_x": null,
       "overflow_y": null,
       "padding": null,
       "right": null,
       "top": null,
       "visibility": null,
       "width": null
      }
     },
     "2f86c7d927a34e6f941ef028f406c847": {
      "model_module": "@jupyter-widgets/base",
      "model_module_version": "1.2.0",
      "model_name": "LayoutModel",
      "state": {
       "_model_module": "@jupyter-widgets/base",
       "_model_module_version": "1.2.0",
       "_model_name": "LayoutModel",
       "_view_count": null,
       "_view_module": "@jupyter-widgets/base",
       "_view_module_version": "1.2.0",
       "_view_name": "LayoutView",
       "align_content": null,
       "align_items": null,
       "align_self": null,
       "border": null,
       "bottom": null,
       "display": null,
       "flex": null,
       "flex_flow": null,
       "grid_area": null,
       "grid_auto_columns": null,
       "grid_auto_flow": null,
       "grid_auto_rows": null,
       "grid_column": null,
       "grid_gap": null,
       "grid_row": null,
       "grid_template_areas": null,
       "grid_template_columns": null,
       "grid_template_rows": null,
       "height": null,
       "justify_content": null,
       "justify_items": null,
       "left": null,
       "margin": null,
       "max_height": null,
       "max_width": null,
       "min_height": null,
       "min_width": null,
       "object_fit": null,
       "object_position": null,
       "order": null,
       "overflow": null,
       "overflow_x": null,
       "overflow_y": null,
       "padding": null,
       "right": null,
       "top": null,
       "visibility": null,
       "width": null
      }
     },
     "3428d9aed9104ff9a3bbdc7a8801a721": {
      "model_module": "@jupyter-widgets/controls",
      "model_module_version": "1.5.0",
      "model_name": "FloatProgressModel",
      "state": {
       "_dom_classes": [],
       "_model_module": "@jupyter-widgets/controls",
       "_model_module_version": "1.5.0",
       "_model_name": "FloatProgressModel",
       "_view_count": null,
       "_view_module": "@jupyter-widgets/controls",
       "_view_module_version": "1.5.0",
       "_view_name": "ProgressView",
       "bar_style": "success",
       "description": "",
       "description_tooltip": null,
       "layout": "IPY_MODEL_82f5ce9fd6154452aafc7c29baed5172",
       "max": 31434,
       "min": 0,
       "orientation": "horizontal",
       "style": "IPY_MODEL_830b033b4a9146feb16d349cc0d16516",
       "value": 31434
      }
     },
     "38822cdfdd25467f9f0152ed1ce3a2e6": {
      "model_module": "@jupyter-widgets/base",
      "model_module_version": "1.2.0",
      "model_name": "LayoutModel",
      "state": {
       "_model_module": "@jupyter-widgets/base",
       "_model_module_version": "1.2.0",
       "_model_name": "LayoutModel",
       "_view_count": null,
       "_view_module": "@jupyter-widgets/base",
       "_view_module_version": "1.2.0",
       "_view_name": "LayoutView",
       "align_content": null,
       "align_items": null,
       "align_self": null,
       "border": null,
       "bottom": null,
       "display": null,
       "flex": null,
       "flex_flow": null,
       "grid_area": null,
       "grid_auto_columns": null,
       "grid_auto_flow": null,
       "grid_auto_rows": null,
       "grid_column": null,
       "grid_gap": null,
       "grid_row": null,
       "grid_template_areas": null,
       "grid_template_columns": null,
       "grid_template_rows": null,
       "height": null,
       "justify_content": null,
       "justify_items": null,
       "left": null,
       "margin": null,
       "max_height": null,
       "max_width": null,
       "min_height": null,
       "min_width": null,
       "object_fit": null,
       "object_position": null,
       "order": null,
       "overflow": null,
       "overflow_x": null,
       "overflow_y": null,
       "padding": null,
       "right": null,
       "top": null,
       "visibility": null,
       "width": null
      }
     },
     "38b11cab7c4345fb801d6a1ff0a5878f": {
      "model_module": "@jupyter-widgets/controls",
      "model_module_version": "1.5.0",
      "model_name": "ProgressStyleModel",
      "state": {
       "_model_module": "@jupyter-widgets/controls",
       "_model_module_version": "1.5.0",
       "_model_name": "ProgressStyleModel",
       "_view_count": null,
       "_view_module": "@jupyter-widgets/base",
       "_view_module_version": "1.2.0",
       "_view_name": "StyleView",
       "bar_color": null,
       "description_width": ""
      }
     },
     "3ba81503e6db4025b401fe1b893ddd95": {
      "model_module": "@jupyter-widgets/controls",
      "model_module_version": "1.5.0",
      "model_name": "HTMLModel",
      "state": {
       "_dom_classes": [],
       "_model_module": "@jupyter-widgets/controls",
       "_model_module_version": "1.5.0",
       "_model_name": "HTMLModel",
       "_view_count": null,
       "_view_module": "@jupyter-widgets/controls",
       "_view_module_version": "1.5.0",
       "_view_name": "HTMLView",
       "description": "",
       "description_tooltip": null,
       "layout": "IPY_MODEL_d434b9c0e9aa4882a3285f70f6cfaea1",
       "placeholder": "​",
       "style": "IPY_MODEL_e8cd62d0492a46108d37c159acbf6352",
       "value": "Downloading spiece.model: 100%"
      }
     },
     "3e81250b0e2e46929fbed785c5d7d90a": {
      "model_module": "@jupyter-widgets/base",
      "model_module_version": "1.2.0",
      "model_name": "LayoutModel",
      "state": {
       "_model_module": "@jupyter-widgets/base",
       "_model_module_version": "1.2.0",
       "_model_name": "LayoutModel",
       "_view_count": null,
       "_view_module": "@jupyter-widgets/base",
       "_view_module_version": "1.2.0",
       "_view_name": "LayoutView",
       "align_content": null,
       "align_items": null,
       "align_self": null,
       "border": null,
       "bottom": null,
       "display": null,
       "flex": null,
       "flex_flow": null,
       "grid_area": null,
       "grid_auto_columns": null,
       "grid_auto_flow": null,
       "grid_auto_rows": null,
       "grid_column": null,
       "grid_gap": null,
       "grid_row": null,
       "grid_template_areas": null,
       "grid_template_columns": null,
       "grid_template_rows": null,
       "height": null,
       "justify_content": null,
       "justify_items": null,
       "left": null,
       "margin": null,
       "max_height": null,
       "max_width": null,
       "min_height": null,
       "min_width": null,
       "object_fit": null,
       "object_position": null,
       "order": null,
       "overflow": null,
       "overflow_x": null,
       "overflow_y": null,
       "padding": null,
       "right": null,
       "top": null,
       "visibility": null,
       "width": null
      }
     },
     "41e5efc1f8df417fb7cd3e65f820d572": {
      "model_module": "@jupyter-widgets/controls",
      "model_module_version": "1.5.0",
      "model_name": "ProgressStyleModel",
      "state": {
       "_model_module": "@jupyter-widgets/controls",
       "_model_module_version": "1.5.0",
       "_model_name": "ProgressStyleModel",
       "_view_count": null,
       "_view_module": "@jupyter-widgets/base",
       "_view_module_version": "1.2.0",
       "_view_name": "StyleView",
       "bar_color": null,
       "description_width": ""
      }
     },
     "423b2804bb4742e5a9d7f05e5391a2b4": {
      "model_module": "@jupyter-widgets/controls",
      "model_module_version": "1.5.0",
      "model_name": "HTMLModel",
      "state": {
       "_dom_classes": [],
       "_model_module": "@jupyter-widgets/controls",
       "_model_module_version": "1.5.0",
       "_model_name": "HTMLModel",
       "_view_count": null,
       "_view_module": "@jupyter-widgets/controls",
       "_view_module_version": "1.5.0",
       "_view_name": "HTMLView",
       "description": "",
       "description_tooltip": null,
       "layout": "IPY_MODEL_de91f1829a3241d380b9976d7384e890",
       "placeholder": "​",
       "style": "IPY_MODEL_b07a317a5de141c3a4dfec7b712c17ca",
       "value": " 125735/125735 [22:28&lt;00:00, 96.49ba/s]"
      }
     },
     "44591867e7ed450796a65ea73ce123aa": {
      "model_module": "@jupyter-widgets/base",
      "model_module_version": "1.2.0",
      "model_name": "LayoutModel",
      "state": {
       "_model_module": "@jupyter-widgets/base",
       "_model_module_version": "1.2.0",
       "_model_name": "LayoutModel",
       "_view_count": null,
       "_view_module": "@jupyter-widgets/base",
       "_view_module_version": "1.2.0",
       "_view_name": "LayoutView",
       "align_content": null,
       "align_items": null,
       "align_self": null,
       "border": null,
       "bottom": null,
       "display": null,
       "flex": null,
       "flex_flow": null,
       "grid_area": null,
       "grid_auto_columns": null,
       "grid_auto_flow": null,
       "grid_auto_rows": null,
       "grid_column": null,
       "grid_gap": null,
       "grid_row": null,
       "grid_template_areas": null,
       "grid_template_columns": null,
       "grid_template_rows": null,
       "height": null,
       "justify_content": null,
       "justify_items": null,
       "left": null,
       "margin": null,
       "max_height": null,
       "max_width": null,
       "min_height": null,
       "min_width": null,
       "object_fit": null,
       "object_position": null,
       "order": null,
       "overflow": null,
       "overflow_x": null,
       "overflow_y": null,
       "padding": null,
       "right": null,
       "top": null,
       "visibility": null,
       "width": null
      }
     },
     "4c20ba7f36f142159527820368f20d2c": {
      "model_module": "@jupyter-widgets/base",
      "model_module_version": "1.2.0",
      "model_name": "LayoutModel",
      "state": {
       "_model_module": "@jupyter-widgets/base",
       "_model_module_version": "1.2.0",
       "_model_name": "LayoutModel",
       "_view_count": null,
       "_view_module": "@jupyter-widgets/base",
       "_view_module_version": "1.2.0",
       "_view_name": "LayoutView",
       "align_content": null,
       "align_items": null,
       "align_self": null,
       "border": null,
       "bottom": null,
       "display": null,
       "flex": null,
       "flex_flow": null,
       "grid_area": null,
       "grid_auto_columns": null,
       "grid_auto_flow": null,
       "grid_auto_rows": null,
       "grid_column": null,
       "grid_gap": null,
       "grid_row": null,
       "grid_template_areas": null,
       "grid_template_columns": null,
       "grid_template_rows": null,
       "height": null,
       "justify_content": null,
       "justify_items": null,
       "left": null,
       "margin": null,
       "max_height": null,
       "max_width": null,
       "min_height": null,
       "min_width": null,
       "object_fit": null,
       "object_position": null,
       "order": null,
       "overflow": null,
       "overflow_x": null,
       "overflow_y": null,
       "padding": null,
       "right": null,
       "top": null,
       "visibility": null,
       "width": null
      }
     },
     "4dded8630b7646a5bd814f571fe2e642": {
      "model_module": "@jupyter-widgets/controls",
      "model_module_version": "1.5.0",
      "model_name": "HTMLModel",
      "state": {
       "_dom_classes": [],
       "_model_module": "@jupyter-widgets/controls",
       "_model_module_version": "1.5.0",
       "_model_name": "HTMLModel",
       "_view_count": null,
       "_view_module": "@jupyter-widgets/controls",
       "_view_module_version": "1.5.0",
       "_view_name": "HTMLView",
       "description": "",
       "description_tooltip": null,
       "layout": "IPY_MODEL_8677e447d5c54928926b26cc982f33c3",
       "placeholder": "​",
       "style": "IPY_MODEL_e9fed84563fe41098546b8d3d527e4f0",
       "value": "Downloading (…)okenizer_config.json: 100%"
      }
     },
     "54072dc5e2b5457e923b6c951622d7dc": {
      "model_module": "@jupyter-widgets/controls",
      "model_module_version": "1.5.0",
      "model_name": "HTMLModel",
      "state": {
       "_dom_classes": [],
       "_model_module": "@jupyter-widgets/controls",
       "_model_module_version": "1.5.0",
       "_model_name": "HTMLModel",
       "_view_count": null,
       "_view_module": "@jupyter-widgets/controls",
       "_view_module_version": "1.5.0",
       "_view_name": "HTMLView",
       "description": "",
       "description_tooltip": null,
       "layout": "IPY_MODEL_c2589a16e11941cb90a132915e9554cd",
       "placeholder": "​",
       "style": "IPY_MODEL_f9917993bbb9421c8fabc7b453a55f9d",
       "value": "Downloading tokenizer.json: 100%"
      }
     },
     "597cef6ad7f84f09845becbd85ac1a3b": {
      "model_module": "@jupyter-widgets/controls",
      "model_module_version": "1.5.0",
      "model_name": "HTMLModel",
      "state": {
       "_dom_classes": [],
       "_model_module": "@jupyter-widgets/controls",
       "_model_module_version": "1.5.0",
       "_model_name": "HTMLModel",
       "_view_count": null,
       "_view_module": "@jupyter-widgets/controls",
       "_view_module_version": "1.5.0",
       "_view_name": "HTMLView",
       "description": "",
       "description_tooltip": null,
       "layout": "IPY_MODEL_982de4e1a5f54326bc187551c75715ce",
       "placeholder": "​",
       "style": "IPY_MODEL_f92d1c7ed11d43ae848867d0d0e0ca42",
       "value": " 4.31M/4.31M [00:00&lt;00:00, 25.5MB/s]"
      }
     },
     "5e2c9e6b70d44189a452e726c090be49": {
      "model_module": "@jupyter-widgets/controls",
      "model_module_version": "1.5.0",
      "model_name": "HTMLModel",
      "state": {
       "_dom_classes": [],
       "_model_module": "@jupyter-widgets/controls",
       "_model_module_version": "1.5.0",
       "_model_name": "HTMLModel",
       "_view_count": null,
       "_view_module": "@jupyter-widgets/controls",
       "_view_module_version": "1.5.0",
       "_view_name": "HTMLView",
       "description": "",
       "description_tooltip": null,
       "layout": "IPY_MODEL_38822cdfdd25467f9f0152ed1ce3a2e6",
       "placeholder": "​",
       "style": "IPY_MODEL_9a7d8415d50244dfaf4ef3ce3f182f97",
       "value": " 16.3M/16.3M [00:00&lt;00:00, 161MB/s]"
      }
     },
     "61b5441749ad4ad49d373ac642d7b546": {
      "model_module": "@jupyter-widgets/controls",
      "model_module_version": "1.5.0",
      "model_name": "HBoxModel",
      "state": {
       "_dom_classes": [],
       "_model_module": "@jupyter-widgets/controls",
       "_model_module_version": "1.5.0",
       "_model_name": "HBoxModel",
       "_view_count": null,
       "_view_module": "@jupyter-widgets/controls",
       "_view_module_version": "1.5.0",
       "_view_name": "HBoxView",
       "box_style": "",
       "children": [
        "IPY_MODEL_4dded8630b7646a5bd814f571fe2e642",
        "IPY_MODEL_16a942801eaa475fb8a6766608dc8589",
        "IPY_MODEL_0685b25443244a73b07e6ff616dfef04"
       ],
       "layout": "IPY_MODEL_8e8c3ecd03b349809a43f91ca9e51956"
      }
     },
     "67cff4a10c404f62a13d1bc604dacca4": {
      "model_module": "@jupyter-widgets/controls",
      "model_module_version": "1.5.0",
      "model_name": "HTMLModel",
      "state": {
       "_dom_classes": [],
       "_model_module": "@jupyter-widgets/controls",
       "_model_module_version": "1.5.0",
       "_model_name": "HTMLModel",
       "_view_count": null,
       "_view_module": "@jupyter-widgets/controls",
       "_view_module_version": "1.5.0",
       "_view_name": "HTMLView",
       "description": "",
       "description_tooltip": null,
       "layout": "IPY_MODEL_973853ffc0914972998cd74bb2326c96",
       "placeholder": "​",
       "style": "IPY_MODEL_1c8060868fba44f580a840cba70d29f7",
       "value": "100%"
      }
     },
     "6c92af4ae1214bd9a1be389fb98e951d": {
      "model_module": "@jupyter-widgets/controls",
      "model_module_version": "1.5.0",
      "model_name": "HBoxModel",
      "state": {
       "_dom_classes": [],
       "_model_module": "@jupyter-widgets/controls",
       "_model_module_version": "1.5.0",
       "_model_name": "HBoxModel",
       "_view_count": null,
       "_view_module": "@jupyter-widgets/controls",
       "_view_module_version": "1.5.0",
       "_view_name": "HBoxView",
       "box_style": "",
       "children": [
        "IPY_MODEL_3ba81503e6db4025b401fe1b893ddd95",
        "IPY_MODEL_748d64cc5906438897fd276220dbbf3a",
        "IPY_MODEL_597cef6ad7f84f09845becbd85ac1a3b"
       ],
       "layout": "IPY_MODEL_8fc949c693c34c3da1e1fff97f2aa3a4"
      }
     },
     "748d64cc5906438897fd276220dbbf3a": {
      "model_module": "@jupyter-widgets/controls",
      "model_module_version": "1.5.0",
      "model_name": "FloatProgressModel",
      "state": {
       "_dom_classes": [],
       "_model_module": "@jupyter-widgets/controls",
       "_model_module_version": "1.5.0",
       "_model_name": "FloatProgressModel",
       "_view_count": null,
       "_view_module": "@jupyter-widgets/controls",
       "_view_module_version": "1.5.0",
       "_view_name": "ProgressView",
       "bar_style": "success",
       "description": "",
       "description_tooltip": null,
       "layout": "IPY_MODEL_7c0f28ff4ca545a79be09b443c1bd286",
       "max": 4309802,
       "min": 0,
       "orientation": "horizontal",
       "style": "IPY_MODEL_41e5efc1f8df417fb7cd3e65f820d572",
       "value": 4309802
      }
     },
     "76356b4f8eb84524ba731e9803ca8725": {
      "model_module": "@jupyter-widgets/controls",
      "model_module_version": "1.5.0",
      "model_name": "DescriptionStyleModel",
      "state": {
       "_model_module": "@jupyter-widgets/controls",
       "_model_module_version": "1.5.0",
       "_model_name": "DescriptionStyleModel",
       "_view_count": null,
       "_view_module": "@jupyter-widgets/base",
       "_view_module_version": "1.2.0",
       "_view_name": "StyleView",
       "description_width": ""
      }
     },
     "7b9eb9a192f748358cb19cf2ef187aba": {
      "model_module": "@jupyter-widgets/base",
      "model_module_version": "1.2.0",
      "model_name": "LayoutModel",
      "state": {
       "_model_module": "@jupyter-widgets/base",
       "_model_module_version": "1.2.0",
       "_model_name": "LayoutModel",
       "_view_count": null,
       "_view_module": "@jupyter-widgets/base",
       "_view_module_version": "1.2.0",
       "_view_name": "LayoutView",
       "align_content": null,
       "align_items": null,
       "align_self": null,
       "border": null,
       "bottom": null,
       "display": null,
       "flex": null,
       "flex_flow": null,
       "grid_area": null,
       "grid_auto_columns": null,
       "grid_auto_flow": null,
       "grid_auto_rows": null,
       "grid_column": null,
       "grid_gap": null,
       "grid_row": null,
       "grid_template_areas": null,
       "grid_template_columns": null,
       "grid_template_rows": null,
       "height": null,
       "justify_content": null,
       "justify_items": null,
       "left": null,
       "margin": null,
       "max_height": null,
       "max_width": null,
       "min_height": null,
       "min_width": null,
       "object_fit": null,
       "object_position": null,
       "order": null,
       "overflow": null,
       "overflow_x": null,
       "overflow_y": null,
       "padding": null,
       "right": null,
       "top": null,
       "visibility": null,
       "width": null
      }
     },
     "7c0f28ff4ca545a79be09b443c1bd286": {
      "model_module": "@jupyter-widgets/base",
      "model_module_version": "1.2.0",
      "model_name": "LayoutModel",
      "state": {
       "_model_module": "@jupyter-widgets/base",
       "_model_module_version": "1.2.0",
       "_model_name": "LayoutModel",
       "_view_count": null,
       "_view_module": "@jupyter-widgets/base",
       "_view_module_version": "1.2.0",
       "_view_name": "LayoutView",
       "align_content": null,
       "align_items": null,
       "align_self": null,
       "border": null,
       "bottom": null,
       "display": null,
       "flex": null,
       "flex_flow": null,
       "grid_area": null,
       "grid_auto_columns": null,
       "grid_auto_flow": null,
       "grid_auto_rows": null,
       "grid_column": null,
       "grid_gap": null,
       "grid_row": null,
       "grid_template_areas": null,
       "grid_template_columns": null,
       "grid_template_rows": null,
       "height": null,
       "justify_content": null,
       "justify_items": null,
       "left": null,
       "margin": null,
       "max_height": null,
       "max_width": null,
       "min_height": null,
       "min_width": null,
       "object_fit": null,
       "object_position": null,
       "order": null,
       "overflow": null,
       "overflow_x": null,
       "overflow_y": null,
       "padding": null,
       "right": null,
       "top": null,
       "visibility": null,
       "width": null
      }
     },
     "7e25a8cde6084bc1aab79212ec234660": {
      "model_module": "@jupyter-widgets/controls",
      "model_module_version": "1.5.0",
      "model_name": "HTMLModel",
      "state": {
       "_dom_classes": [],
       "_model_module": "@jupyter-widgets/controls",
       "_model_module_version": "1.5.0",
       "_model_name": "HTMLModel",
       "_view_count": null,
       "_view_module": "@jupyter-widgets/controls",
       "_view_module_version": "1.5.0",
       "_view_name": "HTMLView",
       "description": "",
       "description_tooltip": null,
       "layout": "IPY_MODEL_2f86c7d927a34e6f941ef028f406c847",
       "placeholder": "​",
       "style": "IPY_MODEL_a3fd90c30a6d4e5fa434cb09fd532623",
       "value": "100%"
      }
     },
     "82839e4ae78049af936db71f9b9cf176": {
      "model_module": "@jupyter-widgets/base",
      "model_module_version": "1.2.0",
      "model_name": "LayoutModel",
      "state": {
       "_model_module": "@jupyter-widgets/base",
       "_model_module_version": "1.2.0",
       "_model_name": "LayoutModel",
       "_view_count": null,
       "_view_module": "@jupyter-widgets/base",
       "_view_module_version": "1.2.0",
       "_view_name": "LayoutView",
       "align_content": null,
       "align_items": null,
       "align_self": null,
       "border": null,
       "bottom": null,
       "display": null,
       "flex": null,
       "flex_flow": null,
       "grid_area": null,
       "grid_auto_columns": null,
       "grid_auto_flow": null,
       "grid_auto_rows": null,
       "grid_column": null,
       "grid_gap": null,
       "grid_row": null,
       "grid_template_areas": null,
       "grid_template_columns": null,
       "grid_template_rows": null,
       "height": null,
       "justify_content": null,
       "justify_items": null,
       "left": null,
       "margin": null,
       "max_height": null,
       "max_width": null,
       "min_height": null,
       "min_width": null,
       "object_fit": null,
       "object_position": null,
       "order": null,
       "overflow": null,
       "overflow_x": null,
       "overflow_y": null,
       "padding": null,
       "right": null,
       "top": null,
       "visibility": null,
       "width": null
      }
     },
     "82f5ce9fd6154452aafc7c29baed5172": {
      "model_module": "@jupyter-widgets/base",
      "model_module_version": "1.2.0",
      "model_name": "LayoutModel",
      "state": {
       "_model_module": "@jupyter-widgets/base",
       "_model_module_version": "1.2.0",
       "_model_name": "LayoutModel",
       "_view_count": null,
       "_view_module": "@jupyter-widgets/base",
       "_view_module_version": "1.2.0",
       "_view_name": "LayoutView",
       "align_content": null,
       "align_items": null,
       "align_self": null,
       "border": null,
       "bottom": null,
       "display": null,
       "flex": null,
       "flex_flow": null,
       "grid_area": null,
       "grid_auto_columns": null,
       "grid_auto_flow": null,
       "grid_auto_rows": null,
       "grid_column": null,
       "grid_gap": null,
       "grid_row": null,
       "grid_template_areas": null,
       "grid_template_columns": null,
       "grid_template_rows": null,
       "height": null,
       "justify_content": null,
       "justify_items": null,
       "left": null,
       "margin": null,
       "max_height": null,
       "max_width": null,
       "min_height": null,
       "min_width": null,
       "object_fit": null,
       "object_position": null,
       "order": null,
       "overflow": null,
       "overflow_x": null,
       "overflow_y": null,
       "padding": null,
       "right": null,
       "top": null,
       "visibility": null,
       "width": null
      }
     },
     "830b033b4a9146feb16d349cc0d16516": {
      "model_module": "@jupyter-widgets/controls",
      "model_module_version": "1.5.0",
      "model_name": "ProgressStyleModel",
      "state": {
       "_model_module": "@jupyter-widgets/controls",
       "_model_module_version": "1.5.0",
       "_model_name": "ProgressStyleModel",
       "_view_count": null,
       "_view_module": "@jupyter-widgets/base",
       "_view_module_version": "1.2.0",
       "_view_name": "StyleView",
       "bar_color": null,
       "description_width": ""
      }
     },
     "8677e447d5c54928926b26cc982f33c3": {
      "model_module": "@jupyter-widgets/base",
      "model_module_version": "1.2.0",
      "model_name": "LayoutModel",
      "state": {
       "_model_module": "@jupyter-widgets/base",
       "_model_module_version": "1.2.0",
       "_model_name": "LayoutModel",
       "_view_count": null,
       "_view_module": "@jupyter-widgets/base",
       "_view_module_version": "1.2.0",
       "_view_name": "LayoutView",
       "align_content": null,
       "align_items": null,
       "align_self": null,
       "border": null,
       "bottom": null,
       "display": null,
       "flex": null,
       "flex_flow": null,
       "grid_area": null,
       "grid_auto_columns": null,
       "grid_auto_flow": null,
       "grid_auto_rows": null,
       "grid_column": null,
       "grid_gap": null,
       "grid_row": null,
       "grid_template_areas": null,
       "grid_template_columns": null,
       "grid_template_rows": null,
       "height": null,
       "justify_content": null,
       "justify_items": null,
       "left": null,
       "margin": null,
       "max_height": null,
       "max_width": null,
       "min_height": null,
       "min_width": null,
       "object_fit": null,
       "object_position": null,
       "order": null,
       "overflow": null,
       "overflow_x": null,
       "overflow_y": null,
       "padding": null,
       "right": null,
       "top": null,
       "visibility": null,
       "width": null
      }
     },
     "8e8c3ecd03b349809a43f91ca9e51956": {
      "model_module": "@jupyter-widgets/base",
      "model_module_version": "1.2.0",
      "model_name": "LayoutModel",
      "state": {
       "_model_module": "@jupyter-widgets/base",
       "_model_module_version": "1.2.0",
       "_model_name": "LayoutModel",
       "_view_count": null,
       "_view_module": "@jupyter-widgets/base",
       "_view_module_version": "1.2.0",
       "_view_name": "LayoutView",
       "align_content": null,
       "align_items": null,
       "align_self": null,
       "border": null,
       "bottom": null,
       "display": null,
       "flex": null,
       "flex_flow": null,
       "grid_area": null,
       "grid_auto_columns": null,
       "grid_auto_flow": null,
       "grid_auto_rows": null,
       "grid_column": null,
       "grid_gap": null,
       "grid_row": null,
       "grid_template_areas": null,
       "grid_template_columns": null,
       "grid_template_rows": null,
       "height": null,
       "justify_content": null,
       "justify_items": null,
       "left": null,
       "margin": null,
       "max_height": null,
       "max_width": null,
       "min_height": null,
       "min_width": null,
       "object_fit": null,
       "object_position": null,
       "order": null,
       "overflow": null,
       "overflow_x": null,
       "overflow_y": null,
       "padding": null,
       "right": null,
       "top": null,
       "visibility": null,
       "width": null
      }
     },
     "8fc949c693c34c3da1e1fff97f2aa3a4": {
      "model_module": "@jupyter-widgets/base",
      "model_module_version": "1.2.0",
      "model_name": "LayoutModel",
      "state": {
       "_model_module": "@jupyter-widgets/base",
       "_model_module_version": "1.2.0",
       "_model_name": "LayoutModel",
       "_view_count": null,
       "_view_module": "@jupyter-widgets/base",
       "_view_module_version": "1.2.0",
       "_view_name": "LayoutView",
       "align_content": null,
       "align_items": null,
       "align_self": null,
       "border": null,
       "bottom": null,
       "display": null,
       "flex": null,
       "flex_flow": null,
       "grid_area": null,
       "grid_auto_columns": null,
       "grid_auto_flow": null,
       "grid_auto_rows": null,
       "grid_column": null,
       "grid_gap": null,
       "grid_row": null,
       "grid_template_areas": null,
       "grid_template_columns": null,
       "grid_template_rows": null,
       "height": null,
       "justify_content": null,
       "justify_items": null,
       "left": null,
       "margin": null,
       "max_height": null,
       "max_width": null,
       "min_height": null,
       "min_width": null,
       "object_fit": null,
       "object_position": null,
       "order": null,
       "overflow": null,
       "overflow_x": null,
       "overflow_y": null,
       "padding": null,
       "right": null,
       "top": null,
       "visibility": null,
       "width": null
      }
     },
     "973853ffc0914972998cd74bb2326c96": {
      "model_module": "@jupyter-widgets/base",
      "model_module_version": "1.2.0",
      "model_name": "LayoutModel",
      "state": {
       "_model_module": "@jupyter-widgets/base",
       "_model_module_version": "1.2.0",
       "_model_name": "LayoutModel",
       "_view_count": null,
       "_view_module": "@jupyter-widgets/base",
       "_view_module_version": "1.2.0",
       "_view_name": "LayoutView",
       "align_content": null,
       "align_items": null,
       "align_self": null,
       "border": null,
       "bottom": null,
       "display": null,
       "flex": null,
       "flex_flow": null,
       "grid_area": null,
       "grid_auto_columns": null,
       "grid_auto_flow": null,
       "grid_auto_rows": null,
       "grid_column": null,
       "grid_gap": null,
       "grid_row": null,
       "grid_template_areas": null,
       "grid_template_columns": null,
       "grid_template_rows": null,
       "height": null,
       "justify_content": null,
       "justify_items": null,
       "left": null,
       "margin": null,
       "max_height": null,
       "max_width": null,
       "min_height": null,
       "min_width": null,
       "object_fit": null,
       "object_position": null,
       "order": null,
       "overflow": null,
       "overflow_x": null,
       "overflow_y": null,
       "padding": null,
       "right": null,
       "top": null,
       "visibility": null,
       "width": null
      }
     },
     "982de4e1a5f54326bc187551c75715ce": {
      "model_module": "@jupyter-widgets/base",
      "model_module_version": "1.2.0",
      "model_name": "LayoutModel",
      "state": {
       "_model_module": "@jupyter-widgets/base",
       "_model_module_version": "1.2.0",
       "_model_name": "LayoutModel",
       "_view_count": null,
       "_view_module": "@jupyter-widgets/base",
       "_view_module_version": "1.2.0",
       "_view_name": "LayoutView",
       "align_content": null,
       "align_items": null,
       "align_self": null,
       "border": null,
       "bottom": null,
       "display": null,
       "flex": null,
       "flex_flow": null,
       "grid_area": null,
       "grid_auto_columns": null,
       "grid_auto_flow": null,
       "grid_auto_rows": null,
       "grid_column": null,
       "grid_gap": null,
       "grid_row": null,
       "grid_template_areas": null,
       "grid_template_columns": null,
       "grid_template_rows": null,
       "height": null,
       "justify_content": null,
       "justify_items": null,
       "left": null,
       "margin": null,
       "max_height": null,
       "max_width": null,
       "min_height": null,
       "min_width": null,
       "object_fit": null,
       "object_position": null,
       "order": null,
       "overflow": null,
       "overflow_x": null,
       "overflow_y": null,
       "padding": null,
       "right": null,
       "top": null,
       "visibility": null,
       "width": null
      }
     },
     "9931a7fc63244aa0838587b232a72063": {
      "model_module": "@jupyter-widgets/controls",
      "model_module_version": "1.5.0",
      "model_name": "ProgressStyleModel",
      "state": {
       "_model_module": "@jupyter-widgets/controls",
       "_model_module_version": "1.5.0",
       "_model_name": "ProgressStyleModel",
       "_view_count": null,
       "_view_module": "@jupyter-widgets/base",
       "_view_module_version": "1.2.0",
       "_view_name": "StyleView",
       "bar_color": null,
       "description_width": ""
      }
     },
     "9a7d8415d50244dfaf4ef3ce3f182f97": {
      "model_module": "@jupyter-widgets/controls",
      "model_module_version": "1.5.0",
      "model_name": "DescriptionStyleModel",
      "state": {
       "_model_module": "@jupyter-widgets/controls",
       "_model_module_version": "1.5.0",
       "_model_name": "DescriptionStyleModel",
       "_view_count": null,
       "_view_module": "@jupyter-widgets/base",
       "_view_module_version": "1.2.0",
       "_view_name": "StyleView",
       "description_width": ""
      }
     },
     "a3fd90c30a6d4e5fa434cb09fd532623": {
      "model_module": "@jupyter-widgets/controls",
      "model_module_version": "1.5.0",
      "model_name": "DescriptionStyleModel",
      "state": {
       "_model_module": "@jupyter-widgets/controls",
       "_model_module_version": "1.5.0",
       "_model_name": "DescriptionStyleModel",
       "_view_count": null,
       "_view_module": "@jupyter-widgets/base",
       "_view_module_version": "1.2.0",
       "_view_name": "StyleView",
       "description_width": ""
      }
     },
     "ad9321adc8ab4a26807379c6d3acbff0": {
      "model_module": "@jupyter-widgets/controls",
      "model_module_version": "1.5.0",
      "model_name": "DescriptionStyleModel",
      "state": {
       "_model_module": "@jupyter-widgets/controls",
       "_model_module_version": "1.5.0",
       "_model_name": "DescriptionStyleModel",
       "_view_count": null,
       "_view_module": "@jupyter-widgets/base",
       "_view_module_version": "1.2.0",
       "_view_name": "StyleView",
       "description_width": ""
      }
     },
     "ae3bf939b77e40a489efaf9c67c4c05e": {
      "model_module": "@jupyter-widgets/controls",
      "model_module_version": "1.5.0",
      "model_name": "ProgressStyleModel",
      "state": {
       "_model_module": "@jupyter-widgets/controls",
       "_model_module_version": "1.5.0",
       "_model_name": "ProgressStyleModel",
       "_view_count": null,
       "_view_module": "@jupyter-widgets/base",
       "_view_module_version": "1.2.0",
       "_view_name": "StyleView",
       "bar_color": null,
       "description_width": ""
      }
     },
     "b07a317a5de141c3a4dfec7b712c17ca": {
      "model_module": "@jupyter-widgets/controls",
      "model_module_version": "1.5.0",
      "model_name": "DescriptionStyleModel",
      "state": {
       "_model_module": "@jupyter-widgets/controls",
       "_model_module_version": "1.5.0",
       "_model_name": "DescriptionStyleModel",
       "_view_count": null,
       "_view_module": "@jupyter-widgets/base",
       "_view_module_version": "1.2.0",
       "_view_name": "StyleView",
       "description_width": ""
      }
     },
     "b2359a1cc0ff4c5ba211dcca6381fe5b": {
      "model_module": "@jupyter-widgets/base",
      "model_module_version": "1.2.0",
      "model_name": "LayoutModel",
      "state": {
       "_model_module": "@jupyter-widgets/base",
       "_model_module_version": "1.2.0",
       "_model_name": "LayoutModel",
       "_view_count": null,
       "_view_module": "@jupyter-widgets/base",
       "_view_module_version": "1.2.0",
       "_view_name": "LayoutView",
       "align_content": null,
       "align_items": null,
       "align_self": null,
       "border": null,
       "bottom": null,
       "display": null,
       "flex": null,
       "flex_flow": null,
       "grid_area": null,
       "grid_auto_columns": null,
       "grid_auto_flow": null,
       "grid_auto_rows": null,
       "grid_column": null,
       "grid_gap": null,
       "grid_row": null,
       "grid_template_areas": null,
       "grid_template_columns": null,
       "grid_template_rows": null,
       "height": null,
       "justify_content": null,
       "justify_items": null,
       "left": null,
       "margin": null,
       "max_height": null,
       "max_width": null,
       "min_height": null,
       "min_width": null,
       "object_fit": null,
       "object_position": null,
       "order": null,
       "overflow": null,
       "overflow_x": null,
       "overflow_y": null,
       "padding": null,
       "right": null,
       "top": null,
       "visibility": null,
       "width": null
      }
     },
     "b4c931cda9ea4e9dbb94798111b03d54": {
      "model_module": "@jupyter-widgets/controls",
      "model_module_version": "1.5.0",
      "model_name": "FloatProgressModel",
      "state": {
       "_dom_classes": [],
       "_model_module": "@jupyter-widgets/controls",
       "_model_module_version": "1.5.0",
       "_model_name": "FloatProgressModel",
       "_view_count": null,
       "_view_module": "@jupyter-widgets/controls",
       "_view_module_version": "1.5.0",
       "_view_name": "ProgressView",
       "bar_style": "success",
       "description": "",
       "description_tooltip": null,
       "layout": "IPY_MODEL_fba3f0d166bd4dc3814c08cbff0ac5aa",
       "max": 16330467,
       "min": 0,
       "orientation": "horizontal",
       "style": "IPY_MODEL_38b11cab7c4345fb801d6a1ff0a5878f",
       "value": 16330467
      }
     },
     "b8cc3e91550c4b739d16659b4a4905f4": {
      "model_module": "@jupyter-widgets/controls",
      "model_module_version": "1.5.0",
      "model_name": "HTMLModel",
      "state": {
       "_dom_classes": [],
       "_model_module": "@jupyter-widgets/controls",
       "_model_module_version": "1.5.0",
       "_model_name": "HTMLModel",
       "_view_count": null,
       "_view_module": "@jupyter-widgets/controls",
       "_view_module_version": "1.5.0",
       "_view_name": "HTMLView",
       "description": "",
       "description_tooltip": null,
       "layout": "IPY_MODEL_44591867e7ed450796a65ea73ce123aa",
       "placeholder": "​",
       "style": "IPY_MODEL_1447c561b63e4e48b4818c0a1d22ced2",
       "value": " 31434/31434 [06:03&lt;00:00, 87.01ba/s]"
      }
     },
     "bcb458dd42f647b88d352e93b281945d": {
      "model_module": "@jupyter-widgets/controls",
      "model_module_version": "1.5.0",
      "model_name": "HBoxModel",
      "state": {
       "_dom_classes": [],
       "_model_module": "@jupyter-widgets/controls",
       "_model_module_version": "1.5.0",
       "_model_name": "HBoxModel",
       "_view_count": null,
       "_view_module": "@jupyter-widgets/controls",
       "_view_module_version": "1.5.0",
       "_view_name": "HBoxView",
       "box_style": "",
       "children": [
        "IPY_MODEL_67cff4a10c404f62a13d1bc604dacca4",
        "IPY_MODEL_3428d9aed9104ff9a3bbdc7a8801a721",
        "IPY_MODEL_b8cc3e91550c4b739d16659b4a4905f4"
       ],
       "layout": "IPY_MODEL_82839e4ae78049af936db71f9b9cf176"
      }
     },
     "c2589a16e11941cb90a132915e9554cd": {
      "model_module": "@jupyter-widgets/base",
      "model_module_version": "1.2.0",
      "model_name": "LayoutModel",
      "state": {
       "_model_module": "@jupyter-widgets/base",
       "_model_module_version": "1.2.0",
       "_model_name": "LayoutModel",
       "_view_count": null,
       "_view_module": "@jupyter-widgets/base",
       "_view_module_version": "1.2.0",
       "_view_name": "LayoutView",
       "align_content": null,
       "align_items": null,
       "align_self": null,
       "border": null,
       "bottom": null,
       "display": null,
       "flex": null,
       "flex_flow": null,
       "grid_area": null,
       "grid_auto_columns": null,
       "grid_auto_flow": null,
       "grid_auto_rows": null,
       "grid_column": null,
       "grid_gap": null,
       "grid_row": null,
       "grid_template_areas": null,
       "grid_template_columns": null,
       "grid_template_rows": null,
       "height": null,
       "justify_content": null,
       "justify_items": null,
       "left": null,
       "margin": null,
       "max_height": null,
       "max_width": null,
       "min_height": null,
       "min_width": null,
       "object_fit": null,
       "object_position": null,
       "order": null,
       "overflow": null,
       "overflow_x": null,
       "overflow_y": null,
       "padding": null,
       "right": null,
       "top": null,
       "visibility": null,
       "width": null
      }
     },
     "c2da48e31861468194ffc47b3b50d847": {
      "model_module": "@jupyter-widgets/base",
      "model_module_version": "1.2.0",
      "model_name": "LayoutModel",
      "state": {
       "_model_module": "@jupyter-widgets/base",
       "_model_module_version": "1.2.0",
       "_model_name": "LayoutModel",
       "_view_count": null,
       "_view_module": "@jupyter-widgets/base",
       "_view_module_version": "1.2.0",
       "_view_name": "LayoutView",
       "align_content": null,
       "align_items": null,
       "align_self": null,
       "border": null,
       "bottom": null,
       "display": null,
       "flex": null,
       "flex_flow": null,
       "grid_area": null,
       "grid_auto_columns": null,
       "grid_auto_flow": null,
       "grid_auto_rows": null,
       "grid_column": null,
       "grid_gap": null,
       "grid_row": null,
       "grid_template_areas": null,
       "grid_template_columns": null,
       "grid_template_rows": null,
       "height": null,
       "justify_content": null,
       "justify_items": null,
       "left": null,
       "margin": null,
       "max_height": null,
       "max_width": null,
       "min_height": null,
       "min_width": null,
       "object_fit": null,
       "object_position": null,
       "order": null,
       "overflow": null,
       "overflow_x": null,
       "overflow_y": null,
       "padding": null,
       "right": null,
       "top": null,
       "visibility": null,
       "width": null
      }
     },
     "c67727112cec463f98408d2480a7d35c": {
      "model_module": "@jupyter-widgets/controls",
      "model_module_version": "1.5.0",
      "model_name": "HBoxModel",
      "state": {
       "_dom_classes": [],
       "_model_module": "@jupyter-widgets/controls",
       "_model_module_version": "1.5.0",
       "_model_name": "HBoxModel",
       "_view_count": null,
       "_view_module": "@jupyter-widgets/controls",
       "_view_module_version": "1.5.0",
       "_view_name": "HBoxView",
       "box_style": "",
       "children": [
        "IPY_MODEL_c8db73835fae4d0284279b78d5dbe17c",
        "IPY_MODEL_0670077f59a14d2e9bbd833eedb612fa",
        "IPY_MODEL_cfc7399b71154dd3982d8efff371f892"
       ],
       "layout": "IPY_MODEL_2d1fd8d835f14922855116b45bd6489e"
      }
     },
     "c89740e929f94c8db396d224c206ede7": {
      "model_module": "@jupyter-widgets/controls",
      "model_module_version": "1.5.0",
      "model_name": "FloatProgressModel",
      "state": {
       "_dom_classes": [],
       "_model_module": "@jupyter-widgets/controls",
       "_model_module_version": "1.5.0",
       "_model_name": "FloatProgressModel",
       "_view_count": null,
       "_view_module": "@jupyter-widgets/controls",
       "_view_module_version": "1.5.0",
       "_view_name": "ProgressView",
       "bar_style": "success",
       "description": "",
       "description_tooltip": null,
       "layout": "IPY_MODEL_0158640165d4456f920b73d80de5512d",
       "max": 125735,
       "min": 0,
       "orientation": "horizontal",
       "style": "IPY_MODEL_9931a7fc63244aa0838587b232a72063",
       "value": 125735
      }
     },
     "c8db73835fae4d0284279b78d5dbe17c": {
      "model_module": "@jupyter-widgets/controls",
      "model_module_version": "1.5.0",
      "model_name": "HTMLModel",
      "state": {
       "_dom_classes": [],
       "_model_module": "@jupyter-widgets/controls",
       "_model_module_version": "1.5.0",
       "_model_name": "HTMLModel",
       "_view_count": null,
       "_view_module": "@jupyter-widgets/controls",
       "_view_module_version": "1.5.0",
       "_view_name": "HTMLView",
       "description": "",
       "description_tooltip": null,
       "layout": "IPY_MODEL_4c20ba7f36f142159527820368f20d2c",
       "placeholder": "​",
       "style": "IPY_MODEL_ad9321adc8ab4a26807379c6d3acbff0",
       "value": "Downloading (…)cial_tokens_map.json: 100%"
      }
     },
     "cef96720653c49ca967835e9eeae4f39": {
      "model_module": "@jupyter-widgets/controls",
      "model_module_version": "1.5.0",
      "model_name": "HBoxModel",
      "state": {
       "_dom_classes": [],
       "_model_module": "@jupyter-widgets/controls",
       "_model_module_version": "1.5.0",
       "_model_name": "HBoxModel",
       "_view_count": null,
       "_view_module": "@jupyter-widgets/controls",
       "_view_module_version": "1.5.0",
       "_view_name": "HBoxView",
       "box_style": "",
       "children": [
        "IPY_MODEL_54072dc5e2b5457e923b6c951622d7dc",
        "IPY_MODEL_b4c931cda9ea4e9dbb94798111b03d54",
        "IPY_MODEL_5e2c9e6b70d44189a452e726c090be49"
       ],
       "layout": "IPY_MODEL_7b9eb9a192f748358cb19cf2ef187aba"
      }
     },
     "cfc7399b71154dd3982d8efff371f892": {
      "model_module": "@jupyter-widgets/controls",
      "model_module_version": "1.5.0",
      "model_name": "HTMLModel",
      "state": {
       "_dom_classes": [],
       "_model_module": "@jupyter-widgets/controls",
       "_model_module_version": "1.5.0",
       "_model_name": "HTMLModel",
       "_view_count": null,
       "_view_module": "@jupyter-widgets/controls",
       "_view_module_version": "1.5.0",
       "_view_name": "HTMLView",
       "description": "",
       "description_tooltip": null,
       "layout": "IPY_MODEL_3e81250b0e2e46929fbed785c5d7d90a",
       "placeholder": "​",
       "style": "IPY_MODEL_038f20c44305479e9afd30df6c99036b",
       "value": " 74.0/74.0 [00:00&lt;00:00, 5.14kB/s]"
      }
     },
     "cfed35c23f5e4bdaa99491f6b1d60997": {
      "model_module": "@jupyter-widgets/base",
      "model_module_version": "1.2.0",
      "model_name": "LayoutModel",
      "state": {
       "_model_module": "@jupyter-widgets/base",
       "_model_module_version": "1.2.0",
       "_model_name": "LayoutModel",
       "_view_count": null,
       "_view_module": "@jupyter-widgets/base",
       "_view_module_version": "1.2.0",
       "_view_name": "LayoutView",
       "align_content": null,
       "align_items": null,
       "align_self": null,
       "border": null,
       "bottom": null,
       "display": null,
       "flex": null,
       "flex_flow": null,
       "grid_area": null,
       "grid_auto_columns": null,
       "grid_auto_flow": null,
       "grid_auto_rows": null,
       "grid_column": null,
       "grid_gap": null,
       "grid_row": null,
       "grid_template_areas": null,
       "grid_template_columns": null,
       "grid_template_rows": null,
       "height": null,
       "justify_content": null,
       "justify_items": null,
       "left": null,
       "margin": null,
       "max_height": null,
       "max_width": null,
       "min_height": null,
       "min_width": null,
       "object_fit": null,
       "object_position": null,
       "order": null,
       "overflow": null,
       "overflow_x": null,
       "overflow_y": null,
       "padding": null,
       "right": null,
       "top": null,
       "visibility": null,
       "width": null
      }
     },
     "d434b9c0e9aa4882a3285f70f6cfaea1": {
      "model_module": "@jupyter-widgets/base",
      "model_module_version": "1.2.0",
      "model_name": "LayoutModel",
      "state": {
       "_model_module": "@jupyter-widgets/base",
       "_model_module_version": "1.2.0",
       "_model_name": "LayoutModel",
       "_view_count": null,
       "_view_module": "@jupyter-widgets/base",
       "_view_module_version": "1.2.0",
       "_view_name": "LayoutView",
       "align_content": null,
       "align_items": null,
       "align_self": null,
       "border": null,
       "bottom": null,
       "display": null,
       "flex": null,
       "flex_flow": null,
       "grid_area": null,
       "grid_auto_columns": null,
       "grid_auto_flow": null,
       "grid_auto_rows": null,
       "grid_column": null,
       "grid_gap": null,
       "grid_row": null,
       "grid_template_areas": null,
       "grid_template_columns": null,
       "grid_template_rows": null,
       "height": null,
       "justify_content": null,
       "justify_items": null,
       "left": null,
       "margin": null,
       "max_height": null,
       "max_width": null,
       "min_height": null,
       "min_width": null,
       "object_fit": null,
       "object_position": null,
       "order": null,
       "overflow": null,
       "overflow_x": null,
       "overflow_y": null,
       "padding": null,
       "right": null,
       "top": null,
       "visibility": null,
       "width": null
      }
     },
     "dbdc3d04103848a79fdec294ff8f3f66": {
      "model_module": "@jupyter-widgets/controls",
      "model_module_version": "1.5.0",
      "model_name": "HBoxModel",
      "state": {
       "_dom_classes": [],
       "_model_module": "@jupyter-widgets/controls",
       "_model_module_version": "1.5.0",
       "_model_name": "HBoxModel",
       "_view_count": null,
       "_view_module": "@jupyter-widgets/controls",
       "_view_module_version": "1.5.0",
       "_view_name": "HBoxView",
       "box_style": "",
       "children": [
        "IPY_MODEL_7e25a8cde6084bc1aab79212ec234660",
        "IPY_MODEL_c89740e929f94c8db396d224c206ede7",
        "IPY_MODEL_423b2804bb4742e5a9d7f05e5391a2b4"
       ],
       "layout": "IPY_MODEL_c2da48e31861468194ffc47b3b50d847"
      }
     },
     "de91f1829a3241d380b9976d7384e890": {
      "model_module": "@jupyter-widgets/base",
      "model_module_version": "1.2.0",
      "model_name": "LayoutModel",
      "state": {
       "_model_module": "@jupyter-widgets/base",
       "_model_module_version": "1.2.0",
       "_model_name": "LayoutModel",
       "_view_count": null,
       "_view_module": "@jupyter-widgets/base",
       "_view_module_version": "1.2.0",
       "_view_name": "LayoutView",
       "align_content": null,
       "align_items": null,
       "align_self": null,
       "border": null,
       "bottom": null,
       "display": null,
       "flex": null,
       "flex_flow": null,
       "grid_area": null,
       "grid_auto_columns": null,
       "grid_auto_flow": null,
       "grid_auto_rows": null,
       "grid_column": null,
       "grid_gap": null,
       "grid_row": null,
       "grid_template_areas": null,
       "grid_template_columns": null,
       "grid_template_rows": null,
       "height": null,
       "justify_content": null,
       "justify_items": null,
       "left": null,
       "margin": null,
       "max_height": null,
       "max_width": null,
       "min_height": null,
       "min_width": null,
       "object_fit": null,
       "object_position": null,
       "order": null,
       "overflow": null,
       "overflow_x": null,
       "overflow_y": null,
       "padding": null,
       "right": null,
       "top": null,
       "visibility": null,
       "width": null
      }
     },
     "e8cd62d0492a46108d37c159acbf6352": {
      "model_module": "@jupyter-widgets/controls",
      "model_module_version": "1.5.0",
      "model_name": "DescriptionStyleModel",
      "state": {
       "_model_module": "@jupyter-widgets/controls",
       "_model_module_version": "1.5.0",
       "_model_name": "DescriptionStyleModel",
       "_view_count": null,
       "_view_module": "@jupyter-widgets/base",
       "_view_module_version": "1.2.0",
       "_view_name": "StyleView",
       "description_width": ""
      }
     },
     "e9fed84563fe41098546b8d3d527e4f0": {
      "model_module": "@jupyter-widgets/controls",
      "model_module_version": "1.5.0",
      "model_name": "DescriptionStyleModel",
      "state": {
       "_model_module": "@jupyter-widgets/controls",
       "_model_module_version": "1.5.0",
       "_model_name": "DescriptionStyleModel",
       "_view_count": null,
       "_view_module": "@jupyter-widgets/base",
       "_view_module_version": "1.2.0",
       "_view_name": "StyleView",
       "description_width": ""
      }
     },
     "f92d1c7ed11d43ae848867d0d0e0ca42": {
      "model_module": "@jupyter-widgets/controls",
      "model_module_version": "1.5.0",
      "model_name": "DescriptionStyleModel",
      "state": {
       "_model_module": "@jupyter-widgets/controls",
       "_model_module_version": "1.5.0",
       "_model_name": "DescriptionStyleModel",
       "_view_count": null,
       "_view_module": "@jupyter-widgets/base",
       "_view_module_version": "1.2.0",
       "_view_name": "StyleView",
       "description_width": ""
      }
     },
     "f9917993bbb9421c8fabc7b453a55f9d": {
      "model_module": "@jupyter-widgets/controls",
      "model_module_version": "1.5.0",
      "model_name": "DescriptionStyleModel",
      "state": {
       "_model_module": "@jupyter-widgets/controls",
       "_model_module_version": "1.5.0",
       "_model_name": "DescriptionStyleModel",
       "_view_count": null,
       "_view_module": "@jupyter-widgets/base",
       "_view_module_version": "1.2.0",
       "_view_name": "StyleView",
       "description_width": ""
      }
     },
     "fba3f0d166bd4dc3814c08cbff0ac5aa": {
      "model_module": "@jupyter-widgets/base",
      "model_module_version": "1.2.0",
      "model_name": "LayoutModel",
      "state": {
       "_model_module": "@jupyter-widgets/base",
       "_model_module_version": "1.2.0",
       "_model_name": "LayoutModel",
       "_view_count": null,
       "_view_module": "@jupyter-widgets/base",
       "_view_module_version": "1.2.0",
       "_view_name": "LayoutView",
       "align_content": null,
       "align_items": null,
       "align_self": null,
       "border": null,
       "bottom": null,
       "display": null,
       "flex": null,
       "flex_flow": null,
       "grid_area": null,
       "grid_auto_columns": null,
       "grid_auto_flow": null,
       "grid_auto_rows": null,
       "grid_column": null,
       "grid_gap": null,
       "grid_row": null,
       "grid_template_areas": null,
       "grid_template_columns": null,
       "grid_template_rows": null,
       "height": null,
       "justify_content": null,
       "justify_items": null,
       "left": null,
       "margin": null,
       "max_height": null,
       "max_width": null,
       "min_height": null,
       "min_width": null,
       "object_fit": null,
       "object_position": null,
       "order": null,
       "overflow": null,
       "overflow_x": null,
       "overflow_y": null,
       "padding": null,
       "right": null,
       "top": null,
       "visibility": null,
       "width": null
      }
     }
    },
    "version_major": 2,
    "version_minor": 0
   }
  }
 },
 "nbformat_minor": 4,
 "nbformat": 4,
 "cells": [
  {
   "cell_type": "code",
   "source": [
    "# This Python 3 environment comes with many helpful analytics libraries installed\n",
    "# It is defined by the kaggle/python Docker image: https://github.com/kaggle/docker-python\n",
    "# For example, here's several helpful packages to load\n",
    "\n",
    "import numpy as np # linear algebra\n",
    "import pandas as pd # data processing, CSV file I/O (e.g. pd.read_csv)\n",
    "\n",
    "# Input data files are available in the read-only \"../input/\" directory\n",
    "# For example, running this (by clicking run or pressing Shift+Enter) will list all files under the input directory\n",
    "\n",
    "import os\n",
    "for dirname, _, filenames in os.walk('/kaggle/input'):\n",
    "    for filename in filenames:\n",
    "        print(os.path.join(dirname, filename))\n",
    "\n",
    "# You can write up to 20GB to the current directory (/kaggle/working/) that gets preserved as output when you create a version using \"Save & Run All\"\n",
    "# You can also write temporary files to /kaggle/temp/, but they won't be saved outside of the current session"
   ],
   "metadata": {
    "_cell_guid": "b1076dfc-b9ad-4769-8c92-a6c4dae69d19",
    "_uuid": "8f2839f25d086af736a60e9eeb907d3b93b6e0e5",
    "id": "6T2nlgYEYGY2",
    "outputId": "f955c5ad-3a7e-4406-dfa3-32c32197e25b",
    "papermill": {
     "duration": 0.09632,
     "end_time": "2023-08-13T12:18:36.688189",
     "exception": false,
     "start_time": "2023-08-13T12:18:36.591869",
     "status": "completed"
    },
    "pycharm": {
     "name": "#%%\n"
    },
    "tags": [],
    "trusted": true
   },
   "execution_count": null,
   "outputs": []
  },
  {
   "cell_type": "code",
   "source": [
    "# removing some channels and adding again for resolving some package installing conflicts\n",
    "!conda clean --all -y\n",
    "!conda config --remove-key channels\n",
    "!conda config --append channels conda-forge --append channels bioconda --append channels defaults"
   ],
   "metadata": {
    "id": "sjEMZSAMYGY6",
    "outputId": "8a81f7f8-6aba-474d-fbba-4783f9c984fc",
    "papermill": {
     "duration": 33.185128,
     "end_time": "2023-08-13T12:19:09.881686",
     "exception": false,
     "start_time": "2023-08-13T12:18:36.696558",
     "status": "completed"
    },
    "pycharm": {
     "name": "#%%\n"
    },
    "tags": [],
    "trusted": true
   },
   "execution_count": null,
   "outputs": []
  },
  {
   "cell_type": "code",
   "source": [
    "# stable version of transformers has a bug in saving and loading peft models\n",
    "# so, in this project, we needed to uninstall stable version\n",
    "# and install a custom fixed version\n",
    "!echo \"y\" | pip uninstall transformers"
   ],
   "metadata": {
    "papermill": {
     "duration": 4.771717,
     "end_time": "2023-08-13T12:19:14.662073",
     "exception": false,
     "start_time": "2023-08-13T12:19:09.890356",
     "status": "completed"
    },
    "tags": [],
    "trusted": true,
    "pycharm": {
     "name": "#%%\n"
    }
   },
   "execution_count": null,
   "outputs": []
  },
  {
   "cell_type": "code",
   "source": [
    "# for some package conflicts, needed to install the latest version from github\n",
    "!echo \"y\" | pip uninstall accelerate"
   ],
   "metadata": {
    "trusted": true,
    "pycharm": {
     "name": "#%%\n"
    }
   },
   "execution_count": null,
   "outputs": []
  },
  {
   "cell_type": "code",
   "source": [
    "!pip install git+https://github.com/huggingface/accelerate # latest version of accelerate\n",
    "!pip install -q bitsandbytes datasets loralib\n",
    "!pip install -q git+https://github.com/llohann-speranca/transformers@fix-resume-checkpoint-for-peftmodel # a custom fixed version of transformers\n",
    "!pip install peft\n",
    "!pip install sentencepiece\n",
    "!pip install datasets tqdm\n",
    "!pip install evaluate\n",
    "!pip install jiwer\n",
    "!pip install rouge_score\n",
    "!pip install rouge\n",
    "# notice that currently huggingface rouge_score doesn't work correctly for Persian text, so we needed to use the pip rouge library instead and it works ok with Persian"
   ],
   "metadata": {
    "id": "VHjxFGRHYGY8",
    "outputId": "4b638f52-d08f-4d26-d9be-6890165fc539",
    "papermill": {
     "duration": 141.665298,
     "end_time": "2023-08-13T12:21:36.336423",
     "exception": false,
     "start_time": "2023-08-13T12:19:14.671125",
     "status": "completed"
    },
    "pycharm": {
     "name": "#%%\n"
    },
    "tags": [],
    "trusted": true
   },
   "execution_count": null,
   "outputs": []
  },
  {
   "cell_type": "code",
   "source": [
    "from transformers import EncoderDecoderModel, AutoTokenizer, DataCollatorForSeq2Seq\n",
    "from peft import get_peft_model, LoraConfig, TaskType\n",
    "import torch\n",
    "from torch.utils.data import Dataset, DataLoader"
   ],
   "metadata": {
    "id": "no8AKTpfYGY_",
    "papermill": {
     "duration": 12.90654,
     "end_time": "2023-08-13T12:21:49.256689",
     "exception": false,
     "start_time": "2023-08-13T12:21:36.350149",
     "status": "completed"
    },
    "pycharm": {
     "name": "#%%\n"
    },
    "tags": [],
    "trusted": true
   },
   "execution_count": null,
   "outputs": []
  },
  {
   "cell_type": "code",
   "source": [
    "# !pip install gdown\n",
    "# !gdown --id 1bNNUa3jizNA_tgpdXko4FuIl6JBZDyYG\n",
    "# !gdown --id 1gwdYyNwJBuY0yxTkzhFIazxf_qYdJol5\n",
    "# !gdown --id 1WoxPp-0gD2-lnndofUvZQ3XVS7ANUEcf\n",
    "# !gdown --id 1Cd0QWA1z-dj79ceWfnmcd2JNBYg3ybMm\n",
    "# !gdown --id 1ciOS1ONmOCZ0HkFB_eZgXhoilBQZ8mrz\n",
    "# !gdown --id 1qU87Y7o7r-ja87-T2Z8Nyv2pJqcHevGF\n",
    "# !gdown --id 1gH3RvmJ2KZxGVLdkm3JJ6PQ6wWnQKMN8\n",
    "# !gdown --id 1OSJn8RkqlhzP3dhQz_nzANYNkI8RcPBt"
   ],
   "metadata": {
    "id": "-b3TaYw_YGZB",
    "outputId": "dc8b090b-184e-4612-a85e-9e6b34ccb203",
    "papermill": {
     "duration": 33.520641,
     "end_time": "2023-08-13T12:22:22.791059",
     "exception": false,
     "start_time": "2023-08-13T12:21:49.270418",
     "status": "completed"
    },
    "pycharm": {
     "name": "#%%\n"
    },
    "tags": [],
    "trusted": true
   },
   "execution_count": null,
   "outputs": []
  },
  {
   "cell_type": "code",
   "source": [
    "# wrong_sents_path = ['/kaggle/input/perspelldata2/PerSpellData-main/DataSet/real-word/be/wrong_be.txt', '/kaggle/input/perspelldata2/PerSpellData-main/DataSet/real-word/common/wrong_common.txt', \\\n",
    "#                    '/kaggle/input/perspelldata2/PerSpellData-main/DataSet/real-word/gozar/wrong_gozar.txt', '/kaggle/input/perspelldata2/PerSpellData-main/DataSet/real-word/hich/wrong_hich.txt', \\\n",
    "#                    '/kaggle/input/perspelldata2/PerSpellData-main/DataSet/real-word/plural/wrong_plural.txt', '/kaggle/input/perspelldata2/PerSpellData-main/DataSet/real-word/tanvin/wrong_tanvin.txt', \\\n",
    "#                    '/kaggle/input/perspelldata2/PerSpellData-main/DataSet/real-word/virastman/wrong_virastman_real.txt', '/kaggle/working/wrong_virastman.txt', \\\n",
    "#                    '/kaggle/working/wrong_faspell.txt', '/kaggle/working/wrong_close_words.txt', '/kaggle/working/wrong_synthetic.txt']\n",
    "\n",
    "# correct_sents_path = ['/kaggle/input/perspelldata2/PerSpellData-main/DataSet/real-word/be/correct_be.txt', '/kaggle/input/perspelldata2/PerSpellData-main/DataSet/real-word/common/correct_common.txt', \\\n",
    "#                      '/kaggle/input/perspelldata2/PerSpellData-main/DataSet/real-word/gozar/correct_gozar.txt', '/kaggle/input/perspelldata2/PerSpellData-main/DataSet/real-word/hich/correct_hich.txt', \\\n",
    "#                      '/kaggle/input/perspelldata2/PerSpellData-main/DataSet/real-word/plural/correct_plural.txt', '/kaggle/input/perspelldata2/PerSpellData-main/DataSet/real-word/tanvin/correct_tanvin.txt', \\\n",
    "#                      '/kaggle/input/perspelldata2/PerSpellData-main/DataSet/real-word/virastman/correct_virastman_real.txt', '/kaggle/working/correct_virastman.txt', \\\n",
    "#                      '/kaggle/working/correct_faspell.txt', '/kaggle/working/correct_close_words.txt', '/kaggle/working/correct_synthetic.txt']"
   ],
   "metadata": {
    "id": "FGlHAAFqYGZC",
    "papermill": {
     "duration": 0.030277,
     "end_time": "2023-08-13T12:22:22.841347",
     "exception": false,
     "start_time": "2023-08-13T12:22:22.811070",
     "status": "completed"
    },
    "pycharm": {
     "name": "#%%\n"
    },
    "tags": [],
    "trusted": true
   },
   "execution_count": null,
   "outputs": []
  },
  {
   "cell_type": "code",
   "source": [
    "# res = pd.DataFrame()\n",
    "# res = pd.concat([res, pd.DataFrame({\"wrong\": [\"سلام حوبی؟\"], \"correct\": [\"سلام خوبی؟\"]}, index=[0])])\n",
    "# res = pd.concat([res, pd.DataFrame({\"wrong\": [\"او این کار را نی کند.\"], \"correct\": [\"او این کار را نمی کند.\"]}, index=[1])])\n",
    "# res = pd.concat([res, pd.DataFrame({\"wrong\": [\"من به آنها اعلام کردن\"], \"correct\": [\"من به آنها اعلام کردم.\"]}, index=[2])])\n",
    "# res = pd.concat([res, pd.DataFrame({\"wrong\": [\"چگون توانستید این کار را انجام بدهید؟\"], \"correct\": [\"چگونه توانستید این کار را انجام بدهید؟\"]}, index=[3])])\n",
    "# res = pd.concat([res, pd.DataFrame({\"wrong\": [\"به آنها تگویید تشریف بیاورند.\"], \"correct\": [\"به آنها بگویید تشریف بیاورند.\"]}, index=[4])])\n",
    "# res = pd.concat([res, pd.DataFrame({\"wrong\": [\"این یگی از بهترین آثار هنری است.\"], \"correct\": [\"این یکی از بهترین آثار هنری است.\"]}, index=[5])])\n",
    "# res = pd.concat([res, pd.DataFrame({\"wrong\": [\"نمی ذانم چرا مدل کار نمی کند\"], \"correct\": [\"نمی دانم چرا مدل کار نمی کند؟\"]}, index=[6])])\n",
    "# res = pd.concat([res, pd.DataFrame({\"wrong\": [\"به آنه دزباره این مشکل بگویید\"], \"correct\": [\"به آنها درباره این مشکل بگویید.\"]}, index=[7])])\n",
    "# res = pd.concat([res, pd.DataFrame({\"wrong\": [\"این مسیله بسیار دقت برانگیز است\"], \"correct\": [\"این مسئله بسیار رقت برانگیز است.\"]}, index=[8])])\n",
    "# res = pd.concat([res, pd.DataFrame({\"wrong\": [\"کوشی موبایل خود را تحویل بذهید\"], \"correct\": [\"گوشی موبایل خود را تحویل بدهید.\"]}, index=[9])])\n",
    "# res"
   ],
   "metadata": {
    "papermill": {
     "duration": 0.029053,
     "end_time": "2023-08-13T12:22:22.889561",
     "exception": false,
     "start_time": "2023-08-13T12:22:22.860508",
     "status": "completed"
    },
    "tags": [],
    "trusted": true,
    "pycharm": {
     "name": "#%%\n"
    }
   },
   "execution_count": null,
   "outputs": []
  },
  {
   "cell_type": "code",
   "source": [
    "# res = pd.DataFrame()\n",
    "# for i in range(len(wrong_sents_path)): # len(wrong_sents_path)\n",
    "#     wrong = pd.read_csv(wrong_sents_path[i], header=None)\n",
    "#     correct = pd.read_csv(correct_sents_path[i], header=None)\n",
    "#     res = pd.concat([res, pd.concat([wrong, correct], axis=1, ignore_index=True)], axis=0, ignore_index=True)\n",
    "\n",
    "# res.columns = ['wrong', 'correct']"
   ],
   "metadata": {
    "id": "ABtjo4WqYGZE",
    "papermill": {
     "duration": 33.111657,
     "end_time": "2023-08-13T12:22:56.041320",
     "exception": false,
     "start_time": "2023-08-13T12:22:22.929663",
     "status": "completed"
    },
    "pycharm": {
     "name": "#%%\n"
    },
    "tags": [],
    "trusted": true
   },
   "execution_count": null,
   "outputs": []
  },
  {
   "cell_type": "code",
   "source": [
    "import gc\n",
    "import torch\n",
    "\n",
    "def clear_caches():\n",
    "    res = gc.collect()\n",
    "    print(\"freed ram:\", res)\n",
    "    torch.cuda.empty_cache()"
   ],
   "metadata": {
    "trusted": true,
    "pycharm": {
     "name": "#%%\n"
    }
   },
   "execution_count": null,
   "outputs": []
  },
  {
   "cell_type": "code",
   "source": [
    "# del wrong\n",
    "# del correct\n",
    "# clear_caches()"
   ],
   "metadata": {
    "papermill": {
     "duration": 0.425808,
     "end_time": "2023-08-13T12:22:56.488310",
     "exception": false,
     "start_time": "2023-08-13T12:22:56.062502",
     "status": "completed"
    },
    "tags": [],
    "trusted": true,
    "pycharm": {
     "name": "#%%\n"
    }
   },
   "execution_count": null,
   "outputs": []
  },
  {
   "cell_type": "code",
   "source": [
    "# dehkhoda_df = pd.read_csv('/kaggle/input/perspelldata2/PerSpellData-main/dehkhoda/dehkhoda_corpus.csv')\n",
    "# dehkhoda_df.drop(columns=dehkhoda_df.columns[0], inplace=True)\n",
    "# dehkhoda_df = dehkhoda_df[['wrong', 'correct']]\n",
    "# res = pd.concat([res, dehkhoda_df], axis=0, ignore_index=True)"
   ],
   "metadata": {
    "id": "TG-2qOlQYGZG",
    "papermill": {
     "duration": 0.399629,
     "end_time": "2023-08-13T12:22:56.907722",
     "exception": false,
     "start_time": "2023-08-13T12:22:56.508093",
     "status": "completed"
    },
    "pycharm": {
     "name": "#%%\n"
    },
    "tags": [],
    "trusted": true
   },
   "execution_count": null,
   "outputs": []
  },
  {
   "cell_type": "code",
   "source": [
    "# del dehkhoda_df\n",
    "# clear_caches()"
   ],
   "metadata": {
    "papermill": {
     "duration": 0.302776,
     "end_time": "2023-08-13T12:22:57.230715",
     "exception": false,
     "start_time": "2023-08-13T12:22:56.927939",
     "status": "completed"
    },
    "tags": [],
    "trusted": true,
    "pycharm": {
     "name": "#%%\n"
    }
   },
   "execution_count": null,
   "outputs": []
  },
  {
   "cell_type": "code",
   "source": [
    "#currently ignoring real_word confusion matrix as input data\n",
    "\n",
    "# conf_matrix = pd.read_csv('/kaggle/input/perspelldata2/PerSpellData-main/confusion_matrix/real-word/final_confusion_real.csv')\n",
    "# conf_matrix.drop(columns=conf_matrix.columns[2:], inplace=True)\n",
    "# conf_matrix = conf_matrix[['word2', 'word1']]\n",
    "# conf_matrix.columns = ['wrong', 'correct']\n",
    "# res = pd.concat([res, conf_matrix], axis=0, ignore_index=True)\n",
    "# res"
   ],
   "metadata": {
    "id": "RuPzxcMZYGZI",
    "papermill": {
     "duration": 0.027482,
     "end_time": "2023-08-13T12:22:57.278095",
     "exception": false,
     "start_time": "2023-08-13T12:22:57.250613",
     "status": "completed"
    },
    "pycharm": {
     "name": "#%%\n"
    },
    "tags": [],
    "trusted": true
   },
   "execution_count": null,
   "outputs": []
  },
  {
   "cell_type": "code",
   "source": [
    "# non_word_conf = pd.read_csv('/kaggle/input/perspelldata2/PerSpellData-main/confusion_matrix/non-word/correct_error.csv')\n",
    "# non_word_conf.columns = ['wrong', 'correct']\n",
    "# res = pd.concat([res, non_word_conf], axis=0, ignore_index=True)"
   ],
   "metadata": {
    "id": "j1_UpM64YGZJ",
    "papermill": {
     "duration": 0.589414,
     "end_time": "2023-08-13T12:22:57.890782",
     "exception": false,
     "start_time": "2023-08-13T12:22:57.301368",
     "status": "completed"
    },
    "pycharm": {
     "name": "#%%\n"
    },
    "tags": [],
    "trusted": true
   },
   "execution_count": null,
   "outputs": []
  },
  {
   "cell_type": "code",
   "source": [
    "# del non_word_conf\n",
    "# clear_caches()"
   ],
   "metadata": {
    "papermill": {
     "duration": 0.29941,
     "end_time": "2023-08-13T12:22:58.210059",
     "exception": false,
     "start_time": "2023-08-13T12:22:57.910649",
     "status": "completed"
    },
    "tags": [],
    "trusted": true,
    "pycharm": {
     "name": "#%%\n"
    }
   },
   "execution_count": null,
   "outputs": []
  },
  {
   "cell_type": "code",
   "source": [
    "pd.set_option('display.max_colwidth', None)"
   ],
   "metadata": {
    "id": "e45bE3RPYGZK",
    "papermill": {
     "duration": 0.027322,
     "end_time": "2023-08-13T12:22:58.257313",
     "exception": false,
     "start_time": "2023-08-13T12:22:58.229991",
     "status": "completed"
    },
    "pycharm": {
     "name": "#%%\n"
    },
    "tags": [],
    "trusted": true
   },
   "execution_count": null,
   "outputs": []
  },
  {
   "cell_type": "code",
   "source": [
    "import random\n",
    "import torch\n",
    "\n",
    "def set_seed(seed):\n",
    "    random.seed(seed)\n",
    "    np.random.seed(seed)\n",
    "    torch.manual_seed(seed)\n",
    "\n",
    "set_seed(42)"
   ],
   "metadata": {
    "id": "Q95Nmf4-YGZN",
    "papermill": {
     "duration": 0.032198,
     "end_time": "2023-08-13T12:22:58.309092",
     "exception": false,
     "start_time": "2023-08-13T12:22:58.276894",
     "status": "completed"
    },
    "pycharm": {
     "name": "#%%\n"
    },
    "tags": [],
    "trusted": true
   },
   "execution_count": null,
   "outputs": []
  },
  {
   "cell_type": "code",
   "source": [
    "max_length = 256"
   ],
   "metadata": {
    "papermill": {
     "duration": 0.028557,
     "end_time": "2023-08-13T12:23:13.900946",
     "exception": false,
     "start_time": "2023-08-13T12:23:13.872389",
     "status": "completed"
    },
    "tags": [],
    "trusted": true,
    "pycharm": {
     "name": "#%%\n"
    }
   },
   "execution_count": null,
   "outputs": []
  },
  {
   "cell_type": "code",
   "source": [
    "# loading models with huggingface\n",
    "# notice that for switching to mT5, you should use AutoModelForSeq2SeqLM instead of EncoderDecoderModel\n",
    "model_name = \"HooshvareLab/bert-fa-zwnj-base\" #\"sepidmnorozy/parsbert-finetuned-pos\"\n",
    "tokenizer = AutoTokenizer.from_pretrained(model_name)\n",
    "model = EncoderDecoderModel.from_encoder_decoder_pretrained(model_name, model_name)"
   ],
   "metadata": {
    "trusted": true,
    "pycharm": {
     "name": "#%%\n"
    }
   },
   "execution_count": null,
   "outputs": []
  },
  {
   "cell_type": "code",
   "source": [
    "# from peft import LoraConfig, get_peft_model\n",
    "# peft_config = LoraConfig(peft_type=\"LORA\", task_type=\"SEQ_2_SEQ_LM\",\\\n",
    "#                          r=8, lora_alpha=16, target_modules=[\"q\", \"v\"], lora_dropout=0.01)\n",
    "# model = get_peft_model(model, peft_config)\n",
    "# model.print_trainable_parameters()"
   ],
   "metadata": {
    "trusted": true,
    "pycharm": {
     "name": "#%%\n"
    }
   },
   "execution_count": null,
   "outputs": []
  },
  {
   "cell_type": "code",
   "source": [
    "model.config.max_length = max_length"
   ],
   "metadata": {
    "trusted": true,
    "pycharm": {
     "name": "#%%\n"
    }
   },
   "execution_count": null,
   "outputs": []
  },
  {
   "cell_type": "code",
   "source": [
    "# this cell is necessary only for training ParsBERT (It's a confing for EncoderDecoder Models)\n",
    "model.config.decoder_start_token_id = tokenizer.cls_token_id\n",
    "model.config.pad_token_id = tokenizer.pad_token_id\n",
    "model.config.vocab_size = model.config.decoder.vocab_size"
   ],
   "metadata": {
    "trusted": true,
    "pycharm": {
     "name": "#%%\n"
    }
   },
   "execution_count": null,
   "outputs": []
  },
  {
   "cell_type": "code",
   "source": [
    "torch_data_collator = DataCollatorForSeq2Seq(tokenizer, padding='max_length',max_length=max_length, return_tensors='pt')"
   ],
   "metadata": {
    "papermill": {
     "duration": 0.030178,
     "end_time": "2023-08-13T12:23:16.156888",
     "exception": false,
     "start_time": "2023-08-13T12:23:16.126710",
     "status": "completed"
    },
    "tags": [],
    "trusted": true,
    "pycharm": {
     "name": "#%%\n"
    }
   },
   "execution_count": null,
   "outputs": []
  },
  {
   "cell_type": "code",
   "source": [
    "# loading tokenized data from disk\n",
    "# notice: the reason we saved the tokenized data to disk and loading it again is\n",
    "# to prevent tokenizing every time for training, and also, in this way, less CPU/GPU RAM is used.\n",
    "from datasets import load_from_disk\n",
    "encoded_train_dataset_input = load_from_disk('/kaggle/input/preprocessed-datasets/encoded_train_dataset_input.hf')"
   ],
   "metadata": {
    "trusted": true,
    "pycharm": {
     "name": "#%%\n"
    }
   },
   "execution_count": null,
   "outputs": []
  },
  {
   "cell_type": "code",
   "source": [
    "encoded_train_dataset_target = load_from_disk('/kaggle/input/preprocessed-datasets/encoded_train_dataset_target.hf')"
   ],
   "metadata": {
    "trusted": true,
    "pycharm": {
     "name": "#%%\n"
    }
   },
   "execution_count": null,
   "outputs": []
  },
  {
   "cell_type": "code",
   "source": [
    "from datasets import concatenate_datasets\n",
    "encoded_input_target = concatenate_datasets([encoded_train_dataset_input, encoded_train_dataset_target], axis=1)"
   ],
   "metadata": {
    "trusted": true,
    "pycharm": {
     "name": "#%%\n"
    }
   },
   "execution_count": null,
   "outputs": []
  },
  {
   "cell_type": "code",
   "source": [
    "encoded_dev_dataset_input = load_from_disk('/kaggle/input/preprocessed-datasets/encoded_dev_dataset_input.hf')"
   ],
   "metadata": {
    "trusted": true,
    "pycharm": {
     "name": "#%%\n"
    }
   },
   "execution_count": null,
   "outputs": []
  },
  {
   "cell_type": "code",
   "source": [
    "encoded_dev_dataset_target = load_from_disk('/kaggle/input/preprocessed-datasets/encoded_dev_dataset_target.hf')"
   ],
   "metadata": {
    "trusted": true,
    "pycharm": {
     "name": "#%%\n"
    }
   },
   "execution_count": null,
   "outputs": []
  },
  {
   "cell_type": "code",
   "source": [
    "encoded_dev_input_target = concatenate_datasets([encoded_dev_dataset_input, encoded_dev_dataset_target], axis=1)"
   ],
   "metadata": {
    "trusted": true,
    "pycharm": {
     "name": "#%%\n"
    }
   },
   "execution_count": null,
   "outputs": []
  },
  {
   "cell_type": "code",
   "source": [
    "# creating a subset of evaluation_dataset\n",
    "# this is used to get a faster feedback of model performance instead of using the big evaluation dataset\n",
    "interval = range(0, 500)\n",
    "small_dev_dataset = encoded_dev_input_target.select(interval, keep_in_memory=True)"
   ],
   "metadata": {
    "trusted": true,
    "pycharm": {
     "name": "#%%\n"
    }
   },
   "execution_count": null,
   "outputs": []
  },
  {
   "cell_type": "code",
   "source": [
    "# we define two data loaders for loading data on each step of training\n",
    "batch_size = 10\n",
    "from torch.utils.data import DataLoader\n",
    "train_dataloader = DataLoader(\n",
    "    encoded_input_target, batch_size=batch_size, collate_fn=torch_data_collator, # increase batch size!\n",
    ")\n",
    "dev_dataloader = DataLoader(\n",
    "    small_dev_dataset, batch_size=batch_size, collate_fn=torch_data_collator\n",
    ")"
   ],
   "metadata": {
    "papermill": {
     "duration": 0.033652,
     "end_time": "2023-08-13T12:52:31.690943",
     "exception": false,
     "start_time": "2023-08-13T12:52:31.657291",
     "status": "completed"
    },
    "tags": [],
    "trusted": true,
    "pycharm": {
     "name": "#%%\n"
    }
   },
   "execution_count": null,
   "outputs": []
  },
  {
   "cell_type": "code",
   "source": [
    "# using AdamW as our optimizer\n",
    "from torch.optim import AdamW\n",
    "optimizer = AdamW(model.parameters(), lr=1e-4) # changed here!"
   ],
   "metadata": {
    "trusted": true,
    "pycharm": {
     "name": "#%%\n"
    }
   },
   "execution_count": null,
   "outputs": []
  },
  {
   "cell_type": "code",
   "source": [
    "# defining a scheduler for our learning rate\n",
    "from transformers import get_scheduler\n",
    "\n",
    "num_epochs = 4\n",
    "num_training_steps = num_epochs * len(train_dataloader)\n",
    "lr_scheduler = get_scheduler(\n",
    "    \"linear\",\n",
    "    optimizer=optimizer,\n",
    "    num_warmup_steps=0,\n",
    "    num_training_steps=num_training_steps,\n",
    ")\n",
    "print(num_training_steps)"
   ],
   "metadata": {
    "trusted": true,
    "pycharm": {
     "name": "#%%\n"
    }
   },
   "execution_count": null,
   "outputs": []
  },
  {
   "cell_type": "code",
   "source": [
    "# a variable for tracking training step manually\n",
    "step = 0"
   ],
   "metadata": {
    "trusted": true,
    "pycharm": {
     "name": "#%%\n"
    }
   },
   "execution_count": null,
   "outputs": []
  },
  {
   "cell_type": "code",
   "source": [
    "# needed for saving and loading models\n",
    "import os\n",
    "os.mkdir('/kaggle/working/model_checkpoints')\n",
    "os.mkdir('/kaggle/working/model_checkpoints/configs')"
   ],
   "metadata": {
    "trusted": true,
    "pycharm": {
     "name": "#%%\n"
    }
   },
   "execution_count": null,
   "outputs": []
  },
  {
   "cell_type": "code",
   "source": [
    "# moving model to gpu\n",
    "import torch\n",
    "device = torch.device(\"cuda\") if torch.cuda.is_available() else torch.device(\"cpu\")\n",
    "model.to(device)"
   ],
   "metadata": {
    "trusted": true,
    "pycharm": {
     "name": "#%%\n"
    }
   },
   "execution_count": null,
   "outputs": []
  },
  {
   "cell_type": "code",
   "source": [
    "# this cell, defines a function that evaluates the performance of\n",
    "# current model on a given input sentence. it prints input, target, corrected strings, and\n",
    "# also rouge and wer score for that given string\n",
    "\n",
    "\n",
    "from rouge import Rouge\n",
    "from evaluate import load\n",
    "\n",
    "def eval_and_log(model, tokenizer, input_text,num_return_sequences, target):\n",
    "    model.eval()\n",
    "    batch = tokenizer([input_text],truncation=True,padding='max_length', max_length=max_length, return_tensors=\"pt\").to(device)\n",
    "    batch.pop('token_type_ids')\n",
    "    translated = model.generate(**batch,num_beams=4, num_return_sequences=num_return_sequences, temperature=1.5)\n",
    "    tgt_text = tokenizer.batch_decode(translated, skip_special_tokens=True)\n",
    "    rouge = Rouge()\n",
    "    wer = load(\"wer\")\n",
    "    rouge_score = None\n",
    "    try:\n",
    "        rouge_score = rouge.get_scores(tgt_text[0], target, avg=True)\n",
    "        print(\"rouge:\", rouge_score)\n",
    "    except ValueError as ve:\n",
    "        print(\"this happend, handling...\" + str(ve))\n",
    "        print(\"rouge:\", \"empty hypothesis happened.\")\n",
    "        \n",
    "    print(\"wer:\", wer.compute(predictions=tgt_text, references=[target]))\n",
    "    model.train()\n",
    "    print(\"wrong input:\", input_text)\n",
    "    print(\"target:\", target)\n",
    "    print(\"corrected:\", tgt_text)\n"
   ],
   "metadata": {
    "trusted": true,
    "pycharm": {
     "name": "#%%\n"
    }
   },
   "execution_count": null,
   "outputs": []
  },
  {
   "cell_type": "code",
   "source": [
    "# these lists were used for tracking losses manually\n",
    "training_losses = []\n",
    "evaluation_losses = []\n",
    "evaluation_wer_scores = []\n",
    "evaluation_rouge_scores = []"
   ],
   "metadata": {
    "trusted": true,
    "pycharm": {
     "name": "#%%\n"
    }
   },
   "execution_count": null,
   "outputs": []
  },
  {
   "cell_type": "code",
   "source": [
    "# init a project on wandb to log losses and scores\n",
    "!pip install wandb\n",
    "!wandb login \"9beedb510c5eb6b8a42c023bc50ec600289cc486\" # use your own wandb API key\n",
    "import wandb\n",
    "\n",
    "wandb.init(\n",
    "    project=\"ParsBert-GEC - Big Dataset\",  \n",
    "    name=\"First 12 hours of run - Real\"\n",
    ")"
   ],
   "metadata": {
    "trusted": true,
    "pycharm": {
     "name": "#%%\n"
    }
   },
   "execution_count": null,
   "outputs": []
  },
  {
   "cell_type": "code",
   "source": [
    "# our training loop, nothing special\n",
    "# evaluation on small evaluation dataset is done every 200 steps\n",
    "# saving a new checkpoint is done only when the to_be_saved checkpoint is better than\n",
    "# currently saved checkpoints, this is done because there is a lack of disk space and each checkpoint,\n",
    "# needs around 3 GB of space to save, so we have to save the best checkpoints.\n",
    "# but, what is our criteria to compare if it's a better checkpoint?\n",
    "# this is done by checking if dev_loss (evaluation_loss) is less than mean_dev_loss of\n",
    "# saved models, and also we check that the model is not overfitting (by checking the difference of\n",
    "# training_loss and dev_loss, the increase in this difference can be an indicant of overfitting)\n",
    "\n",
    "\n",
    "from tqdm.auto import tqdm\n",
    "from evaluate import load\n",
    "from statistics import mean\n",
    "from rouge import Rouge\n",
    "import os\n",
    "import pickle\n",
    "import shutil\n",
    "\n",
    "progress_bar = tqdm(range(num_training_steps))\n",
    "max_checkpoints = 5\n",
    "saved_checkpoints_eval_losses = []\n",
    "saved_checkpoints_loss_diffs = []\n",
    "saved_checkpoints_paths = []\n",
    "\n",
    "model.train()\n",
    "for epoch in range(num_epochs):\n",
    "    for batch in train_dataloader:\n",
    "        global step\n",
    "        step += 1\n",
    "        batch = {k: v.to(device) for k, v in batch.items()}\n",
    "        outputs = model(**batch)\n",
    "        loss = outputs.loss\n",
    "        training_losses.append(loss.item())\n",
    "        loss.backward()\n",
    "        \n",
    "        optimizer.step()\n",
    "        lr_scheduler.step()\n",
    "        optimizer.zero_grad()\n",
    "        progress_bar.update()\n",
    "        \n",
    "        # evaluation and saving part\n",
    "        if step % 200 == 0:\n",
    "            model.eval()\n",
    "            wer = load('wer')\n",
    "            rouge = Rouge()\n",
    "            dev_losses = []\n",
    "            hypothesis = []\n",
    "            references = []\n",
    "            val_progress_bar = tqdm(range(0, len(interval) // batch_size))\n",
    "            for dev_batch in dev_dataloader:\n",
    "                dev_batch = {k: v.to(device) for k, v in dev_batch.items()}\n",
    "                with torch.no_grad():\n",
    "                    dev_outputs = model(**dev_batch)\n",
    "                    dev_losses.append(dev_outputs.loss.item())\n",
    "                dev_logits = dev_outputs.logits\n",
    "                hypothesis.extend(tokenizer.batch_decode(dev_logits.argmax(-1), skip_special_tokens=True))\n",
    "                references.extend(tokenizer.batch_decode(dev_batch['labels'], skip_special_tokens=True))\n",
    "                val_progress_bar.update()\n",
    "            \n",
    "            wer_score = wer.compute(predictions=hypothesis, references=references)\n",
    "            try:\n",
    "                rouge_score = rouge.get_scores(hypothesis, references, avg=True)\n",
    "            except ValueError as e:\n",
    "                print(str(e))\n",
    "                rouge_score = 0 # must handle this later\n",
    "                \n",
    "            dev_loss = mean(dev_losses)\n",
    "            evaluation_losses.append(dev_loss)\n",
    "            evaluation_wer_scores.append(wer_score)\n",
    "            evaluation_rouge_scores.append(rouge_score)\n",
    "            model.train()\n",
    "            \n",
    "            # logging to wandb\n",
    "            wandb.log({\"training_loss\": loss.item(), \"evaluation_loss\": dev_loss, \"epoch\": epoch,\n",
    "                      \"wer_score\": wer_score, \"rouge_score\": rouge_score}, step=step)\n",
    "\n",
    "            # process of checking if the model is a better checkpoint than saved ones\n",
    "            curr_diff = abs(loss.item() - dev_loss)\n",
    "            mean_diff = mean(saved_checkpoints_loss_diffs) if len(saved_checkpoints_loss_diffs) > 0 else 10\n",
    "            mean_dev_losses = mean(saved_checkpoints_eval_losses) if len(saved_checkpoints_eval_losses) > 0 else 10\n",
    "            if len(saved_checkpoints_eval_losses) < max_checkpoints or (curr_diff <= mean_diff \n",
    "                                                                       and dev_loss < mean_dev_losses):\n",
    "                # must delete the worst checkpoint if no more disk space remaining!\n",
    "                max_index = 0\n",
    "                max_value = float('-inf')\n",
    "                if len(saved_checkpoints_eval_losses) == max_checkpoints:\n",
    "                    for i in range(max_checkpoints):\n",
    "                        if saved_checkpoints_eval_losses[i] > max_value:\n",
    "                            max_index = i\n",
    "                            max_value = saved_checkpoints_eval_losses[i]\n",
    "                    dir_path = saved_checkpoints_paths[max_index]\n",
    "                    shutil.rmtree(dir_path)\n",
    "                    # making the config path to delete it:\n",
    "                    parts = dir_path.split('_')\n",
    "                    epoch_str = parts[-3]  # Get the second-to-last part as a string\n",
    "                    step_str = parts[-1]   # Get the last part as a string\n",
    "                    conf_path = f'/kaggle/working/model_checkpoints/configs/config_epoch_{epoch_str}_step_{step_str}.pth'\n",
    "                    os.remove(conf_path)\n",
    "                    clear_caches()\n",
    "#                     print(\"Space after deletion:\", get_free_space('/kaggle/working'))\n",
    "#                     print('\\n')\n",
    "                    saved_checkpoints_eval_losses.pop(max_index)\n",
    "                    saved_checkpoints_loss_diffs.pop(max_index)\n",
    "                    saved_checkpoints_paths.pop(max_index)\n",
    "                \n",
    "                # now, saving the new model\n",
    "                model_path = f'/kaggle/working/model_checkpoints/model_epoch_{epoch}_step_{step}'\n",
    "                model_config_path = f'/kaggle/working/model_checkpoints/configs/config_epoch_{epoch}_step_{step}.pth'\n",
    "                saved_checkpoints_eval_losses.append(dev_loss)\n",
    "                saved_checkpoints_loss_diffs.append(curr_diff)\n",
    "                # notice: config path can be created by some change to model_path, so we will save just model_path\n",
    "                saved_checkpoints_paths.append(f'/kaggle/working/model_checkpoints/model_epoch_{epoch}_step_{step}')\n",
    "                \n",
    "                model.save_pretrained(model_path)\n",
    "                torch.save({\n",
    "                    'epoch': epoch,\n",
    "                    'step': step,\n",
    "                    'optimizer_state_dict': optimizer.state_dict(),\n",
    "                    'training_loss': loss,\n",
    "                    'evaluation_loss': dev_loss,\n",
    "                    'rouge_score': rouge_score,\n",
    "                    'wer_score': wer_score\n",
    "                }, model_config_path)\n",
    "\n",
    "                # now, saving all losses and scores until now to plot it later\n",
    "                try:\n",
    "                    os.remove('/kaggle/working/training_losses.pkl')\n",
    "                    os.remove('/kaggle/working/evaluation_losses.pkl')\n",
    "                    os.remove('/kaggle/working/evaluation_wer_scores.pkl')\n",
    "                    os.remove('/kaggle/working/evaluation_rouge_scores.pkl')\n",
    "                except FileNotFoundError:\n",
    "                    pass\n",
    "                    \n",
    "                with open('/kaggle/working/training_losses.pkl', \"wb\") as file:\n",
    "                    pickle.dump(training_losses, file)\n",
    "\n",
    "                with open('/kaggle/working/evaluation_losses.pkl', \"wb\") as file:\n",
    "                    pickle.dump(evaluation_losses, file)\n",
    "\n",
    "                with open('/kaggle/working/evaluation_wer_scores.pkl', \"wb\") as file:\n",
    "                    pickle.dump(evaluation_wer_scores, file)\n",
    "                    \n",
    "                with open('/kaggle/working/evaluation_rouge_scores.pkl', \"wb\") as file:\n",
    "                    pickle.dump(evaluation_rouge_scores, file)        "
   ],
   "metadata": {
    "trusted": true,
    "pycharm": {
     "name": "#%%\n"
    }
   },
   "execution_count": null,
   "outputs": []
  },
  {
   "cell_type": "code",
   "source": [
    "# res.head(20)"
   ],
   "metadata": {
    "trusted": true,
    "pycharm": {
     "name": "#%%\n"
    }
   },
   "execution_count": null,
   "outputs": []
  },
  {
   "cell_type": "code",
   "source": [
    "# notice: if you wanted to check the model's performance manually, you can load\n",
    "# the model, tokenizer and dataset, and use the this cell's code\n",
    "\n",
    "\n",
    "# index = 6\n",
    "# input_text = res['wrong'][index]\n",
    "# # 'ای معلم گل اگر در فصل گل بوئیدنی است'\n",
    "# eval_and_log(model, tokenizer, input_text, 1, res['correct'][index])"
   ],
   "metadata": {
    "trusted": true,
    "pycharm": {
     "name": "#%%\n"
    }
   },
   "execution_count": null,
   "outputs": []
  }
 ]
}